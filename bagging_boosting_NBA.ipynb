{
  "nbformat": 4,
  "nbformat_minor": 0,
  "metadata": {
    "colab": {
      "provenance": [],
      "include_colab_link": true
    },
    "kernelspec": {
      "name": "python3",
      "display_name": "Python 3"
    },
    "language_info": {
      "name": "python"
    }
  },
  "cells": [
    {
      "cell_type": "markdown",
      "metadata": {
        "id": "view-in-github",
        "colab_type": "text"
      },
      "source": [
        "<a href=\"https://colab.research.google.com/github/RafaRomero8/Baggin-y-Boosting/blob/main/bagging_boosting_NBA.ipynb\" target=\"_parent\"><img src=\"https://colab.research.google.com/assets/colab-badge.svg\" alt=\"Open In Colab\"/></a>"
      ]
    },
    {
      "cell_type": "markdown",
      "source": [
        "\n",
        "# **Técnicas avanzadas para ciencia de datos y empleabilidad**\n",
        "## **Ensambles**\n",
        "\n"
      ],
      "metadata": {
        "id": "N9GLBoBhGz0C"
      }
    },
    {
      "cell_type": "markdown",
      "source": [
        "# Ensambling\n",
        "\n",
        "Hasta este punto te habrás dado cuenta que elegir un modelo para ponerlo «en producción» puede implicar bastantes formas de hacerlo, es decir, que para cada uno de los modelos que hemos hecho, las variables (alphas, betas, entre otras) puede ser bastantes, sino es que en algunos casos infinitas.\n",
        "\n",
        "A veces, seleccionar solo un modelo o unos valores fijos establecidos no es la forma más óptima de trabajar, de hecho seleccionar un solo modelo para predecir con muy alta precisión es complicado. Por ello, nos basaremos en otra herramienta del aprendizaje automático: los **ensambles** (_ensemble_, en inglés), que buscarán principalmente disminuir la varianza, subir la precisión y evitar los sesgos.\n",
        "\n",
        "Antes de entender esto con métodos técnicos, vamos a analizar una analogía:\n",
        "\n",
        "Imagina que quieres comprar un coche, aunque no tienes claro si quieres comprar uno usado, que es muy barato, un seminuevo, que tiene un costo más alto, o uno nuevo, la opción más costosa. Algo que te empuja a decidir sobre el usado o el seminuevo es que el usado cuenta con características que el nuevo no tiene. Ante tantas decisiones, prefieres preguntar a un amigo cercano, a un mecánico de confianza y consultarlo en internet.\n",
        "\n",
        "Pues bien, con base en lo que te indiquen estas tres fuentes, tomarás la decisión que más te convenga.\n"
      ],
      "metadata": {
        "id": "TP-aYr_MOaYq"
      }
    },
    {
      "cell_type": "markdown",
      "source": [
        "## Métodos de ensamble\n",
        "\n",
        "En esta ocasión, veremos los dos métodos de ensamble más conocidos y que mejores resultados han dado. Por lo general, a estos modelos se les conoce como **metaestimadores**.\n",
        "\n",
        "### Bagging\n",
        "\n",
        "Viene de la palabra _**b**ootstrap **agg**regation_. Este método requiere que haya varios algoritmos corriendo en paralelo: cada uno seleccionará el modelo que mejor desempeño tenga y, al final, al juntar los distintos modelos que se han armado, se seleccionará aquel con «más votos» o el que seleccione algún algoritmo de ciencia de datos.\n",
        "\n",
        "Vamos a comparar este método con el ejemplo del coche que quieres comprar. \n",
        "\n",
        "Como mencionamos, quieres adquirir un vehículo, tienes tres opciones distintas y quieres consultarlo de tres formas diferentes. En cada una de las consultas le preguntas al entrevistado (el amigo, el mecánico e internet) por cuál de los tres coches vota (el usado, el seminuevo o el nuevo). El amigo te dijo que compres el seminuevo bajo los argumentos que él considera importantes; el mecánico indica que ve más factible la compra del seminuevo, e internet te indica que es mejor el nuevo. El siguiente paso es contar los votos: dos para el seminuevo, uno para el nuevo y ninguno para el usado. Tu decisión final es comprar el vehículo seminuevo.\n",
        "\n",
        "Ahora, este mismo pensamiento vamos a plasmarlo en nuestro lenguaje de la ciencia de datos:\n",
        "\n",
        "Primero, tenemos nuestro conjunto de entrenamiento. Lo que se hace con este método es dividirlo entre la cantidad de algoritmos de _machine learning_ que queremos evaluar, esto es, si queremos evaluar tres modelos, se tendrán que dividir el conjunto de entrenamiento en tres partes; pero el hecho de que un dato sea usado en el primer modelo no quiere decir que no pueda usarse en el segundo o el tercero, en otras palabras, aunque se armen distintos conjuntos de entrenamiento, los valores se pueden duplicar en otros conjuntos.\n",
        "\n",
        "Es importante considerar que la división del conjunto de entrenamiento con distintos valores permitirá no solo que apliquemos modelos distintos, sino que puede usarse el mismo modelo y dará un resultado diferente, ya que hay una variación en el conjunto que está entrenando ese modelo.\n",
        "\n",
        "Luego, cada modelo tendrá un resultado, el cual, a su vez, se evaluará con los distintos métodos para considerar el más correcto; finalmente, se seleccionará aquel que tenga el mejor desempeño.\n",
        "\n",
        "![Bagging](https://drive.google.com/uc?export=view&id=1QhUqtAy8dnMUTY64deXRxis8GoJIHd96)\n"
      ],
      "metadata": {
        "id": "2B4-XCbCOgUR"
      }
    },
    {
      "cell_type": "markdown",
      "source": [
        "Para aplicar cualquiera de los métodos, primero debemos llevar a cabo los pasos del preprocesado, esto incluye dividir los métodos de entrenamiento y de _testing_. Por esta razón, usaremos las paqueterías que ya conocemos."
      ],
      "metadata": {
        "id": "EyjbMDoyqXfc"
      }
    },
    {
      "cell_type": "code",
      "source": [
        "#Librerías que solemos usar para la manipulación de información y para graficar.\n",
        "import pandas as pd\n",
        "import numpy as np\n",
        "import matplotlib.pyplot as plt\n",
        "import seaborn as sns"
      ],
      "metadata": {
        "id": "X7GR4LFCObse"
      },
      "execution_count": 12,
      "outputs": []
    },
    {
      "cell_type": "markdown",
      "source": [
        "De igual manera, y como se indicó previamente, usaremos las funciones `train_test_split`, y para medir la precisión del modelo usaremos `accuracy_score`, ambos de **sklearn**."
      ],
      "metadata": {
        "id": "3s2Wee5SrZnP"
      }
    },
    {
      "cell_type": "code",
      "source": [
        "from sklearn.model_selection import train_test_split #para entrenar el modelo\n",
        "from sklearn.metrics import accuracy_score #metricas"
      ],
      "metadata": {
        "id": "lKid-usYOq-j"
      },
      "execution_count": 13,
      "outputs": []
    },
    {
      "cell_type": "markdown",
      "source": [
        "Ahora te daremos un _tip_ que podría funcionar para que practiques distintos modelos de ciencia de datos.\n",
        "\n",
        "**Seaborn** es una paquetería que permite hacer gráficos y diagramas usando como base **Pyplot**, solo que su enfoque se hace sobre _datasets_ de **Pandas**. No obstante, **Seaborn** proporciona algunos _datasets_ para probar las distintas gráficas o bien para analizarlas.\n",
        "\n",
        "Para conocer los _datasets_ disponibles en tu código, escribe lo siguiente: \n",
        "```python\n",
        "sns.get_dataset_names()\n",
        "``` \n",
        "(Obviamente, después de importar **Seaborn** y darle el alias `sns`). Mira el ejemplo siguiente y observa los resultados:"
      ],
      "metadata": {
        "id": "JXt8hRl4r2lg"
      }
    },
    {
      "cell_type": "code",
      "source": [
        "sns.get_dataset_names() #tomamos datos o un datasetde seaborn"
      ],
      "metadata": {
        "colab": {
          "base_uri": "https://localhost:8080/"
        },
        "id": "XwZ9dTQ1v3b0",
        "outputId": "62f812d6-e043-48fb-ea0f-450548ef559b"
      },
      "execution_count": null,
      "outputs": [
        {
          "output_type": "execute_result",
          "data": {
            "text/plain": [
              "['anagrams',\n",
              " 'anscombe',\n",
              " 'attention',\n",
              " 'brain_networks',\n",
              " 'car_crashes',\n",
              " 'diamonds',\n",
              " 'dots',\n",
              " 'dowjones',\n",
              " 'exercise',\n",
              " 'flights',\n",
              " 'fmri',\n",
              " 'geyser',\n",
              " 'glue',\n",
              " 'healthexp',\n",
              " 'iris',\n",
              " 'mpg',\n",
              " 'penguins',\n",
              " 'planets',\n",
              " 'seaice',\n",
              " 'taxis',\n",
              " 'tips',\n",
              " 'titanic']"
            ]
          },
          "metadata": {},
          "execution_count": 5
        }
      ]
    },
    {
      "cell_type": "markdown",
      "source": [
        "La única forma de conocer los datos es explorando los _datasets_ por tu cuenta.\n",
        "\n",
        "Una vez seleccionados los datos, deberemos indicarlos de la siguiente forma:\n",
        "```python\n",
        "sns.load_dataset('<nombre_del_dataset>')\n",
        "```\n",
        "En el código que sigue hemos creado un objeto (un _dataframe_ de **Pandas**) llamado `df`, hemos borrado valores `NA` que existan en cualquier fila con `.dropna()` y hemos observado los primeros cinco valores con `.head(5)`."
      ],
      "metadata": {
        "id": "equO6bWJt1sy"
      }
    },
    {
      "cell_type": "code",
      "source": [
        "df = sns.load_dataset('penguins').dropna()#nos quedamos con valores completos\n",
        "df.head(5)\n",
        "#nota:importante hacer EDA  \n",
        "#SI HAY MAS DE 60% de datos recomendable quedartelos y hacer una imputacion \n",
        "#si hay menos de 60% de los datos o mas de 40% en una variable podemos quitarla ya que \n",
        "#no nos proporciona información"
      ],
      "metadata": {
        "colab": {
          "base_uri": "https://localhost:8080/",
          "height": 206
        },
        "id": "8IyndpVzv6EW",
        "outputId": "86579f98-ea17-4645-b6d9-4735e4d6d3b3"
      },
      "execution_count": 39,
      "outputs": [
        {
          "output_type": "execute_result",
          "data": {
            "text/plain": [
              "  species     island  bill_length_mm  bill_depth_mm  flipper_length_mm  \\\n",
              "0  Adelie  Torgersen            39.1           18.7              181.0   \n",
              "1  Adelie  Torgersen            39.5           17.4              186.0   \n",
              "2  Adelie  Torgersen            40.3           18.0              195.0   \n",
              "4  Adelie  Torgersen            36.7           19.3              193.0   \n",
              "5  Adelie  Torgersen            39.3           20.6              190.0   \n",
              "\n",
              "   body_mass_g     sex  \n",
              "0       3750.0    Male  \n",
              "1       3800.0  Female  \n",
              "2       3250.0  Female  \n",
              "4       3450.0  Female  \n",
              "5       3650.0    Male  "
            ],
            "text/html": [
              "\n",
              "  <div id=\"df-2a786388-a98c-4ed9-a468-ee97bae3cdd5\">\n",
              "    <div class=\"colab-df-container\">\n",
              "      <div>\n",
              "<style scoped>\n",
              "    .dataframe tbody tr th:only-of-type {\n",
              "        vertical-align: middle;\n",
              "    }\n",
              "\n",
              "    .dataframe tbody tr th {\n",
              "        vertical-align: top;\n",
              "    }\n",
              "\n",
              "    .dataframe thead th {\n",
              "        text-align: right;\n",
              "    }\n",
              "</style>\n",
              "<table border=\"1\" class=\"dataframe\">\n",
              "  <thead>\n",
              "    <tr style=\"text-align: right;\">\n",
              "      <th></th>\n",
              "      <th>species</th>\n",
              "      <th>island</th>\n",
              "      <th>bill_length_mm</th>\n",
              "      <th>bill_depth_mm</th>\n",
              "      <th>flipper_length_mm</th>\n",
              "      <th>body_mass_g</th>\n",
              "      <th>sex</th>\n",
              "    </tr>\n",
              "  </thead>\n",
              "  <tbody>\n",
              "    <tr>\n",
              "      <th>0</th>\n",
              "      <td>Adelie</td>\n",
              "      <td>Torgersen</td>\n",
              "      <td>39.1</td>\n",
              "      <td>18.7</td>\n",
              "      <td>181.0</td>\n",
              "      <td>3750.0</td>\n",
              "      <td>Male</td>\n",
              "    </tr>\n",
              "    <tr>\n",
              "      <th>1</th>\n",
              "      <td>Adelie</td>\n",
              "      <td>Torgersen</td>\n",
              "      <td>39.5</td>\n",
              "      <td>17.4</td>\n",
              "      <td>186.0</td>\n",
              "      <td>3800.0</td>\n",
              "      <td>Female</td>\n",
              "    </tr>\n",
              "    <tr>\n",
              "      <th>2</th>\n",
              "      <td>Adelie</td>\n",
              "      <td>Torgersen</td>\n",
              "      <td>40.3</td>\n",
              "      <td>18.0</td>\n",
              "      <td>195.0</td>\n",
              "      <td>3250.0</td>\n",
              "      <td>Female</td>\n",
              "    </tr>\n",
              "    <tr>\n",
              "      <th>4</th>\n",
              "      <td>Adelie</td>\n",
              "      <td>Torgersen</td>\n",
              "      <td>36.7</td>\n",
              "      <td>19.3</td>\n",
              "      <td>193.0</td>\n",
              "      <td>3450.0</td>\n",
              "      <td>Female</td>\n",
              "    </tr>\n",
              "    <tr>\n",
              "      <th>5</th>\n",
              "      <td>Adelie</td>\n",
              "      <td>Torgersen</td>\n",
              "      <td>39.3</td>\n",
              "      <td>20.6</td>\n",
              "      <td>190.0</td>\n",
              "      <td>3650.0</td>\n",
              "      <td>Male</td>\n",
              "    </tr>\n",
              "  </tbody>\n",
              "</table>\n",
              "</div>\n",
              "      <button class=\"colab-df-convert\" onclick=\"convertToInteractive('df-2a786388-a98c-4ed9-a468-ee97bae3cdd5')\"\n",
              "              title=\"Convert this dataframe to an interactive table.\"\n",
              "              style=\"display:none;\">\n",
              "        \n",
              "  <svg xmlns=\"http://www.w3.org/2000/svg\" height=\"24px\"viewBox=\"0 0 24 24\"\n",
              "       width=\"24px\">\n",
              "    <path d=\"M0 0h24v24H0V0z\" fill=\"none\"/>\n",
              "    <path d=\"M18.56 5.44l.94 2.06.94-2.06 2.06-.94-2.06-.94-.94-2.06-.94 2.06-2.06.94zm-11 1L8.5 8.5l.94-2.06 2.06-.94-2.06-.94L8.5 2.5l-.94 2.06-2.06.94zm10 10l.94 2.06.94-2.06 2.06-.94-2.06-.94-.94-2.06-.94 2.06-2.06.94z\"/><path d=\"M17.41 7.96l-1.37-1.37c-.4-.4-.92-.59-1.43-.59-.52 0-1.04.2-1.43.59L10.3 9.45l-7.72 7.72c-.78.78-.78 2.05 0 2.83L4 21.41c.39.39.9.59 1.41.59.51 0 1.02-.2 1.41-.59l7.78-7.78 2.81-2.81c.8-.78.8-2.07 0-2.86zM5.41 20L4 18.59l7.72-7.72 1.47 1.35L5.41 20z\"/>\n",
              "  </svg>\n",
              "      </button>\n",
              "      \n",
              "  <style>\n",
              "    .colab-df-container {\n",
              "      display:flex;\n",
              "      flex-wrap:wrap;\n",
              "      gap: 12px;\n",
              "    }\n",
              "\n",
              "    .colab-df-convert {\n",
              "      background-color: #E8F0FE;\n",
              "      border: none;\n",
              "      border-radius: 50%;\n",
              "      cursor: pointer;\n",
              "      display: none;\n",
              "      fill: #1967D2;\n",
              "      height: 32px;\n",
              "      padding: 0 0 0 0;\n",
              "      width: 32px;\n",
              "    }\n",
              "\n",
              "    .colab-df-convert:hover {\n",
              "      background-color: #E2EBFA;\n",
              "      box-shadow: 0px 1px 2px rgba(60, 64, 67, 0.3), 0px 1px 3px 1px rgba(60, 64, 67, 0.15);\n",
              "      fill: #174EA6;\n",
              "    }\n",
              "\n",
              "    [theme=dark] .colab-df-convert {\n",
              "      background-color: #3B4455;\n",
              "      fill: #D2E3FC;\n",
              "    }\n",
              "\n",
              "    [theme=dark] .colab-df-convert:hover {\n",
              "      background-color: #434B5C;\n",
              "      box-shadow: 0px 1px 3px 1px rgba(0, 0, 0, 0.15);\n",
              "      filter: drop-shadow(0px 1px 2px rgba(0, 0, 0, 0.3));\n",
              "      fill: #FFFFFF;\n",
              "    }\n",
              "  </style>\n",
              "\n",
              "      <script>\n",
              "        const buttonEl =\n",
              "          document.querySelector('#df-2a786388-a98c-4ed9-a468-ee97bae3cdd5 button.colab-df-convert');\n",
              "        buttonEl.style.display =\n",
              "          google.colab.kernel.accessAllowed ? 'block' : 'none';\n",
              "\n",
              "        async function convertToInteractive(key) {\n",
              "          const element = document.querySelector('#df-2a786388-a98c-4ed9-a468-ee97bae3cdd5');\n",
              "          const dataTable =\n",
              "            await google.colab.kernel.invokeFunction('convertToInteractive',\n",
              "                                                     [key], {});\n",
              "          if (!dataTable) return;\n",
              "\n",
              "          const docLinkHtml = 'Like what you see? Visit the ' +\n",
              "            '<a target=\"_blank\" href=https://colab.research.google.com/notebooks/data_table.ipynb>data table notebook</a>'\n",
              "            + ' to learn more about interactive tables.';\n",
              "          element.innerHTML = '';\n",
              "          dataTable['output_type'] = 'display_data';\n",
              "          await google.colab.output.renderOutput(dataTable, element);\n",
              "          const docLink = document.createElement('div');\n",
              "          docLink.innerHTML = docLinkHtml;\n",
              "          element.appendChild(docLink);\n",
              "        }\n",
              "      </script>\n",
              "    </div>\n",
              "  </div>\n",
              "  "
            ]
          },
          "metadata": {},
          "execution_count": 39
        }
      ]
    },
    {
      "cell_type": "markdown",
      "source": [
        "Siempre que analices un conjunto de datos usa `.dtypes` (sin paréntesis) para saber si hablamos de flotantes, enteros o valores categóricos, estos últimos mostrados como `object`. "
      ],
      "metadata": {
        "id": "9VrUinjNvDB9"
      }
    },
    {
      "cell_type": "code",
      "source": [
        "df.dtypes"
      ],
      "metadata": {
        "colab": {
          "base_uri": "https://localhost:8080/"
        },
        "id": "cUsPpDPcv8iX",
        "outputId": "b519f699-ba43-4dfe-fb03-a1481fb407c3"
      },
      "execution_count": null,
      "outputs": [
        {
          "output_type": "execute_result",
          "data": {
            "text/plain": [
              "species               object\n",
              "island                object\n",
              "bill_length_mm       float64\n",
              "bill_depth_mm        float64\n",
              "flipper_length_mm    float64\n",
              "body_mass_g          float64\n",
              "sex                   object\n",
              "dtype: object"
            ]
          },
          "metadata": {},
          "execution_count": 5
        }
      ]
    },
    {
      "cell_type": "markdown",
      "source": [
        "En este nivel ya debes saber que para entrenar valores categóricos es necesario que a estos se les asigne un número: el _dataset_ de `pinguins`, que estamos usando de ejemplo, tiene la columna `sex`, que hace referencia al sexo del pingüino analizado, y tiene como posibles resultados `Male` o `Female`. Si convertimos estas etiquetas a números, a `Female` se le asignará `0` mientras que a `Male` se le asignará `1`. \n",
        "\n",
        "Esto permitirá que podamos usar las herramientas de **Sklearn** en el conjunto de datos.\n",
        "\n",
        "Para esto usaremos `LabelEncoder` y con el siguiente código automáticamente transformaremos todas las columnas que sean valores categóricos a números.\n"
      ],
      "metadata": {
        "id": "bWhYXMQ31jPT"
      }
    },
    {
      "cell_type": "code",
      "source": [
        "from sklearn.preprocessing import LabelEncoder\n",
        "label_encoder = LabelEncoder()#nos convierte la columna en numerico,en una etiquet\n",
        "\n",
        "for col in df.columns:\n",
        "    if df[col].dtype == 'object':\n",
        "        label_encoder.fit_transform(list(df[col].values))#toma los valores de las columnas\n",
        "        df[col] = label_encoder.transform(df[col].values)#los transforma y los agrega  a su columnacorrespondiente"
      ],
      "metadata": {
        "id": "I3o84-Kjv-s_"
      },
      "execution_count": 40,
      "outputs": []
    },
    {
      "cell_type": "code",
      "source": [
        "df.columns"
      ],
      "metadata": {
        "colab": {
          "base_uri": "https://localhost:8080/"
        },
        "id": "pUmCsgENs7Ye",
        "outputId": "35e708fc-e7cd-4692-cd54-278bf817f3ec"
      },
      "execution_count": null,
      "outputs": [
        {
          "output_type": "execute_result",
          "data": {
            "text/plain": [
              "Index(['species', 'island', 'bill_length_mm', 'bill_depth_mm',\n",
              "       'flipper_length_mm', 'body_mass_g', 'sex'],\n",
              "      dtype='object')"
            ]
          },
          "metadata": {},
          "execution_count": 8
        }
      ]
    },
    {
      "cell_type": "markdown",
      "source": [
        "Observando el código de arriba, vemos que el bucle analiza una a una las columnas de `df` (`for col in df.columns:`); después de esto, si la columna analizada tiene con `.dtype` el valor `'object'`, entonces se aplicará `LabelEncoder`, el cual, como la mayoría de las funciones de **Sklearn**, requiere entrenarse con `fit_transform`.\n",
        "\n",
        "Podemos ver los resultados con `.head()` o `.tail()`."
      ],
      "metadata": {
        "id": "34NlOvrj3lbE"
      }
    },
    {
      "cell_type": "code",
      "source": [
        "df.head()\n",
        "#nos convierte la columna en numeros es decir\n",
        "#0 para la primera categoria ,1 para la segunda categoria etc."
      ],
      "metadata": {
        "colab": {
          "base_uri": "https://localhost:8080/",
          "height": 206
        },
        "id": "yZ11OD3hwBj7",
        "outputId": "b186a8d8-d15b-453a-8e37-fd257aac999a"
      },
      "execution_count": null,
      "outputs": [
        {
          "output_type": "execute_result",
          "data": {
            "text/plain": [
              "   species  island  bill_length_mm  bill_depth_mm  flipper_length_mm  \\\n",
              "0        0       2            39.1           18.7              181.0   \n",
              "1        0       2            39.5           17.4              186.0   \n",
              "2        0       2            40.3           18.0              195.0   \n",
              "4        0       2            36.7           19.3              193.0   \n",
              "5        0       2            39.3           20.6              190.0   \n",
              "\n",
              "   body_mass_g  sex  \n",
              "0       3750.0    1  \n",
              "1       3800.0    0  \n",
              "2       3250.0    0  \n",
              "4       3450.0    0  \n",
              "5       3650.0    1  "
            ],
            "text/html": [
              "\n",
              "  <div id=\"df-edc1d232-f81b-447f-a59e-42c7bd39b1cd\">\n",
              "    <div class=\"colab-df-container\">\n",
              "      <div>\n",
              "<style scoped>\n",
              "    .dataframe tbody tr th:only-of-type {\n",
              "        vertical-align: middle;\n",
              "    }\n",
              "\n",
              "    .dataframe tbody tr th {\n",
              "        vertical-align: top;\n",
              "    }\n",
              "\n",
              "    .dataframe thead th {\n",
              "        text-align: right;\n",
              "    }\n",
              "</style>\n",
              "<table border=\"1\" class=\"dataframe\">\n",
              "  <thead>\n",
              "    <tr style=\"text-align: right;\">\n",
              "      <th></th>\n",
              "      <th>species</th>\n",
              "      <th>island</th>\n",
              "      <th>bill_length_mm</th>\n",
              "      <th>bill_depth_mm</th>\n",
              "      <th>flipper_length_mm</th>\n",
              "      <th>body_mass_g</th>\n",
              "      <th>sex</th>\n",
              "    </tr>\n",
              "  </thead>\n",
              "  <tbody>\n",
              "    <tr>\n",
              "      <th>0</th>\n",
              "      <td>0</td>\n",
              "      <td>2</td>\n",
              "      <td>39.1</td>\n",
              "      <td>18.7</td>\n",
              "      <td>181.0</td>\n",
              "      <td>3750.0</td>\n",
              "      <td>1</td>\n",
              "    </tr>\n",
              "    <tr>\n",
              "      <th>1</th>\n",
              "      <td>0</td>\n",
              "      <td>2</td>\n",
              "      <td>39.5</td>\n",
              "      <td>17.4</td>\n",
              "      <td>186.0</td>\n",
              "      <td>3800.0</td>\n",
              "      <td>0</td>\n",
              "    </tr>\n",
              "    <tr>\n",
              "      <th>2</th>\n",
              "      <td>0</td>\n",
              "      <td>2</td>\n",
              "      <td>40.3</td>\n",
              "      <td>18.0</td>\n",
              "      <td>195.0</td>\n",
              "      <td>3250.0</td>\n",
              "      <td>0</td>\n",
              "    </tr>\n",
              "    <tr>\n",
              "      <th>4</th>\n",
              "      <td>0</td>\n",
              "      <td>2</td>\n",
              "      <td>36.7</td>\n",
              "      <td>19.3</td>\n",
              "      <td>193.0</td>\n",
              "      <td>3450.0</td>\n",
              "      <td>0</td>\n",
              "    </tr>\n",
              "    <tr>\n",
              "      <th>5</th>\n",
              "      <td>0</td>\n",
              "      <td>2</td>\n",
              "      <td>39.3</td>\n",
              "      <td>20.6</td>\n",
              "      <td>190.0</td>\n",
              "      <td>3650.0</td>\n",
              "      <td>1</td>\n",
              "    </tr>\n",
              "  </tbody>\n",
              "</table>\n",
              "</div>\n",
              "      <button class=\"colab-df-convert\" onclick=\"convertToInteractive('df-edc1d232-f81b-447f-a59e-42c7bd39b1cd')\"\n",
              "              title=\"Convert this dataframe to an interactive table.\"\n",
              "              style=\"display:none;\">\n",
              "        \n",
              "  <svg xmlns=\"http://www.w3.org/2000/svg\" height=\"24px\"viewBox=\"0 0 24 24\"\n",
              "       width=\"24px\">\n",
              "    <path d=\"M0 0h24v24H0V0z\" fill=\"none\"/>\n",
              "    <path d=\"M18.56 5.44l.94 2.06.94-2.06 2.06-.94-2.06-.94-.94-2.06-.94 2.06-2.06.94zm-11 1L8.5 8.5l.94-2.06 2.06-.94-2.06-.94L8.5 2.5l-.94 2.06-2.06.94zm10 10l.94 2.06.94-2.06 2.06-.94-2.06-.94-.94-2.06-.94 2.06-2.06.94z\"/><path d=\"M17.41 7.96l-1.37-1.37c-.4-.4-.92-.59-1.43-.59-.52 0-1.04.2-1.43.59L10.3 9.45l-7.72 7.72c-.78.78-.78 2.05 0 2.83L4 21.41c.39.39.9.59 1.41.59.51 0 1.02-.2 1.41-.59l7.78-7.78 2.81-2.81c.8-.78.8-2.07 0-2.86zM5.41 20L4 18.59l7.72-7.72 1.47 1.35L5.41 20z\"/>\n",
              "  </svg>\n",
              "      </button>\n",
              "      \n",
              "  <style>\n",
              "    .colab-df-container {\n",
              "      display:flex;\n",
              "      flex-wrap:wrap;\n",
              "      gap: 12px;\n",
              "    }\n",
              "\n",
              "    .colab-df-convert {\n",
              "      background-color: #E8F0FE;\n",
              "      border: none;\n",
              "      border-radius: 50%;\n",
              "      cursor: pointer;\n",
              "      display: none;\n",
              "      fill: #1967D2;\n",
              "      height: 32px;\n",
              "      padding: 0 0 0 0;\n",
              "      width: 32px;\n",
              "    }\n",
              "\n",
              "    .colab-df-convert:hover {\n",
              "      background-color: #E2EBFA;\n",
              "      box-shadow: 0px 1px 2px rgba(60, 64, 67, 0.3), 0px 1px 3px 1px rgba(60, 64, 67, 0.15);\n",
              "      fill: #174EA6;\n",
              "    }\n",
              "\n",
              "    [theme=dark] .colab-df-convert {\n",
              "      background-color: #3B4455;\n",
              "      fill: #D2E3FC;\n",
              "    }\n",
              "\n",
              "    [theme=dark] .colab-df-convert:hover {\n",
              "      background-color: #434B5C;\n",
              "      box-shadow: 0px 1px 3px 1px rgba(0, 0, 0, 0.15);\n",
              "      filter: drop-shadow(0px 1px 2px rgba(0, 0, 0, 0.3));\n",
              "      fill: #FFFFFF;\n",
              "    }\n",
              "  </style>\n",
              "\n",
              "      <script>\n",
              "        const buttonEl =\n",
              "          document.querySelector('#df-edc1d232-f81b-447f-a59e-42c7bd39b1cd button.colab-df-convert');\n",
              "        buttonEl.style.display =\n",
              "          google.colab.kernel.accessAllowed ? 'block' : 'none';\n",
              "\n",
              "        async function convertToInteractive(key) {\n",
              "          const element = document.querySelector('#df-edc1d232-f81b-447f-a59e-42c7bd39b1cd');\n",
              "          const dataTable =\n",
              "            await google.colab.kernel.invokeFunction('convertToInteractive',\n",
              "                                                     [key], {});\n",
              "          if (!dataTable) return;\n",
              "\n",
              "          const docLinkHtml = 'Like what you see? Visit the ' +\n",
              "            '<a target=\"_blank\" href=https://colab.research.google.com/notebooks/data_table.ipynb>data table notebook</a>'\n",
              "            + ' to learn more about interactive tables.';\n",
              "          element.innerHTML = '';\n",
              "          dataTable['output_type'] = 'display_data';\n",
              "          await google.colab.output.renderOutput(dataTable, element);\n",
              "          const docLink = document.createElement('div');\n",
              "          docLink.innerHTML = docLinkHtml;\n",
              "          element.appendChild(docLink);\n",
              "        }\n",
              "      </script>\n",
              "    </div>\n",
              "  </div>\n",
              "  "
            ]
          },
          "metadata": {},
          "execution_count": 9
        }
      ]
    },
    {
      "cell_type": "markdown",
      "source": [
        "Podemos usar el mapa de calor de **Seaborn** para ver la relación entre las variables.\n",
        "\n",
        "¿Recuerdas qué código se puede usar para tener este resultado solo con texto?"
      ],
      "metadata": {
        "id": "2JXvHolT5EnC"
      }
    },
    {
      "cell_type": "code",
      "source": [
        "sns.heatmap(\n",
        "    df.corr(), annot= True, cmap= 'YlOrBr'\n",
        "    )\n",
        "#correlacion entre las variables"
      ],
      "metadata": {
        "colab": {
          "base_uri": "https://localhost:8080/",
          "height": 370
        },
        "id": "EIEuKV3jwDdU",
        "outputId": "a199457f-df44-4d6d-e8ad-fd4ad54d3cef"
      },
      "execution_count": null,
      "outputs": [
        {
          "output_type": "execute_result",
          "data": {
            "text/plain": [
              "<matplotlib.axes._subplots.AxesSubplot at 0x7f47f40a1e20>"
            ]
          },
          "metadata": {},
          "execution_count": 15
        },
        {
          "output_type": "display_data",
          "data": {
            "text/plain": [
              "<Figure size 432x288 with 2 Axes>"
            ],
            "image/png": "[encoded data removed]"
          },
          "metadata": {
            "needs_background": "light"
          }
        }
      ]
    },
    {
      "cell_type": "markdown",
      "source": [
        "Si a la pregunta anterior has contestado con `.corr()`, estás en lo correcto."
      ],
      "metadata": {
        "id": "Q4dlxuBI5ZXC"
      }
    },
    {
      "cell_type": "code",
      "source": [
        "df.corr()"
      ],
      "metadata": {
        "colab": {
          "base_uri": "https://localhost:8080/",
          "height": 266
        },
        "id": "EsHWRlH35gLf",
        "outputId": "31af3606-1cb6-4fa4-8015-8e608cda983f"
      },
      "execution_count": null,
      "outputs": [
        {
          "output_type": "execute_result",
          "data": {
            "text/plain": [
              "                    species    island  bill_length_mm  bill_depth_mm  \\\n",
              "species            1.000000 -0.622428        0.730548      -0.740346   \n",
              "island            -0.622428  1.000000       -0.337179       0.568031   \n",
              "bill_length_mm     0.730548 -0.337179        1.000000      -0.228626   \n",
              "bill_depth_mm     -0.740346  0.568031       -0.228626       1.000000   \n",
              "flipper_length_mm  0.850737 -0.554413        0.653096      -0.577792   \n",
              "body_mass_g        0.750434 -0.559526        0.589451      -0.472016   \n",
              "sex                0.010964 -0.012435        0.344078       0.372673   \n",
              "\n",
              "                   flipper_length_mm  body_mass_g       sex  \n",
              "species                     0.850737     0.750434  0.010964  \n",
              "island                     -0.554413    -0.559526 -0.012435  \n",
              "bill_length_mm              0.653096     0.589451  0.344078  \n",
              "bill_depth_mm              -0.577792    -0.472016  0.372673  \n",
              "flipper_length_mm           1.000000     0.872979  0.255169  \n",
              "body_mass_g                 0.872979     1.000000  0.424987  \n",
              "sex                         0.255169     0.424987  1.000000  "
            ],
            "text/html": [
              "\n",
              "  <div id=\"df-43150a7c-b741-4018-b224-9db084a2fbe6\">\n",
              "    <div class=\"colab-df-container\">\n",
              "      <div>\n",
              "<style scoped>\n",
              "    .dataframe tbody tr th:only-of-type {\n",
              "        vertical-align: middle;\n",
              "    }\n",
              "\n",
              "    .dataframe tbody tr th {\n",
              "        vertical-align: top;\n",
              "    }\n",
              "\n",
              "    .dataframe thead th {\n",
              "        text-align: right;\n",
              "    }\n",
              "</style>\n",
              "<table border=\"1\" class=\"dataframe\">\n",
              "  <thead>\n",
              "    <tr style=\"text-align: right;\">\n",
              "      <th></th>\n",
              "      <th>species</th>\n",
              "      <th>island</th>\n",
              "      <th>bill_length_mm</th>\n",
              "      <th>bill_depth_mm</th>\n",
              "      <th>flipper_length_mm</th>\n",
              "      <th>body_mass_g</th>\n",
              "      <th>sex</th>\n",
              "    </tr>\n",
              "  </thead>\n",
              "  <tbody>\n",
              "    <tr>\n",
              "      <th>species</th>\n",
              "      <td>1.000000</td>\n",
              "      <td>-0.622428</td>\n",
              "      <td>0.730548</td>\n",
              "      <td>-0.740346</td>\n",
              "      <td>0.850737</td>\n",
              "      <td>0.750434</td>\n",
              "      <td>0.010964</td>\n",
              "    </tr>\n",
              "    <tr>\n",
              "      <th>island</th>\n",
              "      <td>-0.622428</td>\n",
              "      <td>1.000000</td>\n",
              "      <td>-0.337179</td>\n",
              "      <td>0.568031</td>\n",
              "      <td>-0.554413</td>\n",
              "      <td>-0.559526</td>\n",
              "      <td>-0.012435</td>\n",
              "    </tr>\n",
              "    <tr>\n",
              "      <th>bill_length_mm</th>\n",
              "      <td>0.730548</td>\n",
              "      <td>-0.337179</td>\n",
              "      <td>1.000000</td>\n",
              "      <td>-0.228626</td>\n",
              "      <td>0.653096</td>\n",
              "      <td>0.589451</td>\n",
              "      <td>0.344078</td>\n",
              "    </tr>\n",
              "    <tr>\n",
              "      <th>bill_depth_mm</th>\n",
              "      <td>-0.740346</td>\n",
              "      <td>0.568031</td>\n",
              "      <td>-0.228626</td>\n",
              "      <td>1.000000</td>\n",
              "      <td>-0.577792</td>\n",
              "      <td>-0.472016</td>\n",
              "      <td>0.372673</td>\n",
              "    </tr>\n",
              "    <tr>\n",
              "      <th>flipper_length_mm</th>\n",
              "      <td>0.850737</td>\n",
              "      <td>-0.554413</td>\n",
              "      <td>0.653096</td>\n",
              "      <td>-0.577792</td>\n",
              "      <td>1.000000</td>\n",
              "      <td>0.872979</td>\n",
              "      <td>0.255169</td>\n",
              "    </tr>\n",
              "    <tr>\n",
              "      <th>body_mass_g</th>\n",
              "      <td>0.750434</td>\n",
              "      <td>-0.559526</td>\n",
              "      <td>0.589451</td>\n",
              "      <td>-0.472016</td>\n",
              "      <td>0.872979</td>\n",
              "      <td>1.000000</td>\n",
              "      <td>0.424987</td>\n",
              "    </tr>\n",
              "    <tr>\n",
              "      <th>sex</th>\n",
              "      <td>0.010964</td>\n",
              "      <td>-0.012435</td>\n",
              "      <td>0.344078</td>\n",
              "      <td>0.372673</td>\n",
              "      <td>0.255169</td>\n",
              "      <td>0.424987</td>\n",
              "      <td>1.000000</td>\n",
              "    </tr>\n",
              "  </tbody>\n",
              "</table>\n",
              "</div>\n",
              "      <button class=\"colab-df-convert\" onclick=\"convertToInteractive('df-43150a7c-b741-4018-b224-9db084a2fbe6')\"\n",
              "              title=\"Convert this dataframe to an interactive table.\"\n",
              "              style=\"display:none;\">\n",
              "        \n",
              "  <svg xmlns=\"http://www.w3.org/2000/svg\" height=\"24px\"viewBox=\"0 0 24 24\"\n",
              "       width=\"24px\">\n",
              "    <path d=\"M0 0h24v24H0V0z\" fill=\"none\"/>\n",
              "    <path d=\"M18.56 5.44l.94 2.06.94-2.06 2.06-.94-2.06-.94-.94-2.06-.94 2.06-2.06.94zm-11 1L8.5 8.5l.94-2.06 2.06-.94-2.06-.94L8.5 2.5l-.94 2.06-2.06.94zm10 10l.94 2.06.94-2.06 2.06-.94-2.06-.94-.94-2.06-.94 2.06-2.06.94z\"/><path d=\"M17.41 7.96l-1.37-1.37c-.4-.4-.92-.59-1.43-.59-.52 0-1.04.2-1.43.59L10.3 9.45l-7.72 7.72c-.78.78-.78 2.05 0 2.83L4 21.41c.39.39.9.59 1.41.59.51 0 1.02-.2 1.41-.59l7.78-7.78 2.81-2.81c.8-.78.8-2.07 0-2.86zM5.41 20L4 18.59l7.72-7.72 1.47 1.35L5.41 20z\"/>\n",
              "  </svg>\n",
              "      </button>\n",
              "      \n",
              "  <style>\n",
              "    .colab-df-container {\n",
              "      display:flex;\n",
              "      flex-wrap:wrap;\n",
              "      gap: 12px;\n",
              "    }\n",
              "\n",
              "    .colab-df-convert {\n",
              "      background-color: #E8F0FE;\n",
              "      border: none;\n",
              "      border-radius: 50%;\n",
              "      cursor: pointer;\n",
              "      display: none;\n",
              "      fill: #1967D2;\n",
              "      height: 32px;\n",
              "      padding: 0 0 0 0;\n",
              "      width: 32px;\n",
              "    }\n",
              "\n",
              "    .colab-df-convert:hover {\n",
              "      background-color: #E2EBFA;\n",
              "      box-shadow: 0px 1px 2px rgba(60, 64, 67, 0.3), 0px 1px 3px 1px rgba(60, 64, 67, 0.15);\n",
              "      fill: #174EA6;\n",
              "    }\n",
              "\n",
              "    [theme=dark] .colab-df-convert {\n",
              "      background-color: #3B4455;\n",
              "      fill: #D2E3FC;\n",
              "    }\n",
              "\n",
              "    [theme=dark] .colab-df-convert:hover {\n",
              "      background-color: #434B5C;\n",
              "      box-shadow: 0px 1px 3px 1px rgba(0, 0, 0, 0.15);\n",
              "      filter: drop-shadow(0px 1px 2px rgba(0, 0, 0, 0.3));\n",
              "      fill: #FFFFFF;\n",
              "    }\n",
              "  </style>\n",
              "\n",
              "      <script>\n",
              "        const buttonEl =\n",
              "          document.querySelector('#df-43150a7c-b741-4018-b224-9db084a2fbe6 button.colab-df-convert');\n",
              "        buttonEl.style.display =\n",
              "          google.colab.kernel.accessAllowed ? 'block' : 'none';\n",
              "\n",
              "        async function convertToInteractive(key) {\n",
              "          const element = document.querySelector('#df-43150a7c-b741-4018-b224-9db084a2fbe6');\n",
              "          const dataTable =\n",
              "            await google.colab.kernel.invokeFunction('convertToInteractive',\n",
              "                                                     [key], {});\n",
              "          if (!dataTable) return;\n",
              "\n",
              "          const docLinkHtml = 'Like what you see? Visit the ' +\n",
              "            '<a target=\"_blank\" href=https://colab.research.google.com/notebooks/data_table.ipynb>data table notebook</a>'\n",
              "            + ' to learn more about interactive tables.';\n",
              "          element.innerHTML = '';\n",
              "          dataTable['output_type'] = 'display_data';\n",
              "          await google.colab.output.renderOutput(dataTable, element);\n",
              "          const docLink = document.createElement('div');\n",
              "          docLink.innerHTML = docLinkHtml;\n",
              "          element.appendChild(docLink);\n",
              "        }\n",
              "      </script>\n",
              "    </div>\n",
              "  </div>\n",
              "  "
            ]
          },
          "metadata": {},
          "execution_count": 9
        }
      ]
    },
    {
      "cell_type": "markdown",
      "source": [
        "Se puede sugerir ver el resultado de las demás variables en la variable objetivo (en nuestro ejemplo, `species`, ya que se trata de un problema de clasificación).\n",
        "\n",
        "Podemos potencializar ese análisis usando `.sort_values(ascendign= False)`, para mostrar la correlación de mayor a menor.\n",
        "\n",
        "> **NOTA**: No olvides qué valores cercanos a `1` están fuertemente correlacionados: si es `+1`, es una fuerte correlación positiva, mientras que `-1` es una fuerte correlación inversa. Por tanto, la forma en la que se muestra la información no quiere decir que el valor al fondo de la lista sea el que menor correlación tiene, sino que podría ser mayor la correlación inversa."
      ],
      "metadata": {
        "id": "FTs5INX55n34"
      }
    },
    {
      "cell_type": "code",
      "source": [
        "df.corr()['species'].sort_values(ascending= False)\n",
        "#correlaciones entre la variable species con las demas variables\n"
      ],
      "metadata": {
        "colab": {
          "base_uri": "https://localhost:8080/"
        },
        "id": "apYYcArpwGMv",
        "outputId": "391cbe6b-2918-4524-f411-b95601924827"
      },
      "execution_count": null,
      "outputs": [
        {
          "output_type": "execute_result",
          "data": {
            "text/plain": [
              "species              1.000000\n",
              "flipper_length_mm    0.850737\n",
              "body_mass_g          0.750434\n",
              "bill_length_mm       0.730548\n",
              "sex                  0.010964\n",
              "island              -0.622428\n",
              "bill_depth_mm       -0.740346\n",
              "Name: species, dtype: float64"
            ]
          },
          "metadata": {},
          "execution_count": 10
        }
      ]
    },
    {
      "cell_type": "code",
      "source": [
        "sns.scatterplot(x=df['bill_depth_mm'],y=df['body_mass_g'],hue=df['sex'])\n"
      ],
      "metadata": {
        "colab": {
          "base_uri": "https://localhost:8080/",
          "height": 297
        },
        "id": "JGYs9K2RxcIR",
        "outputId": "5c0e53f5-875b-49d6-aefd-6f624c1e54a1"
      },
      "execution_count": null,
      "outputs": [
        {
          "output_type": "execute_result",
          "data": {
            "text/plain": [
              "<matplotlib.axes._subplots.AxesSubplot at 0x7f47f34557c0>"
            ]
          },
          "metadata": {},
          "execution_count": 23
        },
        {
          "output_type": "display_data",
          "data": {
            "text/plain": [
              "<Figure size 432x288 with 1 Axes>"
            ],
            "image/png": "[encoded data removed]"
          },
          "metadata": {
            "needs_background": "light"
          }
        }
      ]
    },
    {
      "cell_type": "code",
      "source": [
        "sns.scatterplot(x=df['bill_depth_mm'],y=df['body_mass_g'],hue=df['species'])\n",
        "#probelma dde clasificacion ,cómo separar las especies"
      ],
      "metadata": {
        "colab": {
          "base_uri": "https://localhost:8080/",
          "height": 297
        },
        "id": "-ICq0vYszIWA",
        "outputId": "8f45aab7-e7a6-486d-883f-0ba7860f6b78"
      },
      "execution_count": null,
      "outputs": [
        {
          "output_type": "execute_result",
          "data": {
            "text/plain": [
              "<matplotlib.axes._subplots.AxesSubplot at 0x7f47f33ba1c0>"
            ]
          },
          "metadata": {},
          "execution_count": 25
        },
        {
          "output_type": "display_data",
          "data": {
            "text/plain": [
              "<Figure size 432x288 with 1 Axes>"
            ],
            "image/png": "[encoded data removed]"
          },
          "metadata": {
            "needs_background": "light"
          }
        }
      ]
    },
    {
      "cell_type": "markdown",
      "source": [
        "Ahora es más fácil determinar cuáles son las variables independientes ($X$) y cuál es el objetivo ($y$)."
      ],
      "metadata": {
        "id": "Yuy9i3sX6sKJ"
      }
    },
    {
      "cell_type": "code",
      "source": [
        "X = df[['flipper_length_mm',\n",
        "        'flipper_length_mm',\n",
        "        'body_mass_g',\n",
        "        'bill_length_mm',\n",
        "        'island',\n",
        "        'bill_depth_mm']]#variables dependientes\n",
        "\n",
        "y = df['species']#variable independiente o variable objetivo\n",
        "\n",
        "#preparamos nuestros datos"
      ],
      "metadata": {
        "id": "ky5ePiZewI6O"
      },
      "execution_count": 41,
      "outputs": []
    },
    {
      "cell_type": "markdown",
      "source": [
        "Si en algún momento tienes duda, no olvides usar `.shape` para esta seguro que miden lo mismo y que `y` es un valor adimensional.\n",
        "\n",
        "> **NOTA**: No es lo mismo `(100, 1)` que `(100,)`."
      ],
      "metadata": {
        "id": "7yOmlqYC68rg"
      }
    },
    {
      "cell_type": "code",
      "source": [
        "X.shape, y.shape"
      ],
      "metadata": {
        "colab": {
          "base_uri": "https://localhost:8080/"
        },
        "id": "zX1uZyekwLVV",
        "outputId": "f0d12976-123e-4846-9a47-45f021aa3ca7"
      },
      "execution_count": null,
      "outputs": [
        {
          "output_type": "execute_result",
          "data": {
            "text/plain": [
              "((333, 6), (333,))"
            ]
          },
          "metadata": {},
          "execution_count": 12
        }
      ]
    },
    {
      "cell_type": "markdown",
      "source": [
        "Listo, ahora partamos en conjuntos de entrenamiento y de prueba:"
      ],
      "metadata": {
        "id": "_MTQdqti701s"
      }
    },
    {
      "cell_type": "code",
      "source": [
        "#dividimos nuestro data train y test\n",
        "X_train, X_test, y_train, y_test = train_test_split(\n",
        "    X, \n",
        "    y, \n",
        "    test_size= 0.20,#tamaño de 20% para prueba\n",
        "    random_state= 19,\n",
        "    stratify = y #ayuda para cuando los datos estan muy desvalanceados\n",
        "    #en nuesro caso estan balanceados\n",
        ")"
      ],
      "metadata": {
        "id": "6wRo8oeowNg9"
      },
      "execution_count": null,
      "outputs": []
    },
    {
      "cell_type": "code",
      "source": [
        "df['species'].value_counts()\n",
        "#146 especies son de la clase 0\n",
        "#68 especies son de la clase 1\n",
        "#119 especies son de la clase 2"
      ],
      "metadata": {
        "colab": {
          "base_uri": "https://localhost:8080/"
        },
        "id": "bFotiHhL0j7-",
        "outputId": "69fde900-326b-4a62-8deb-64d087a98a06"
      },
      "execution_count": null,
      "outputs": [
        {
          "output_type": "execute_result",
          "data": {
            "text/plain": [
              "0    146\n",
              "2    119\n",
              "1     68\n",
              "Name: species, dtype: int64"
            ]
          },
          "metadata": {},
          "execution_count": 63
        }
      ]
    },
    {
      "cell_type": "code",
      "source": [
        "df['species'].value_counts(normalize=True)\n",
        "#tenemos un 43% para la categoria 0 \n",
        "#tenemos un 35% para la categoria 2"
      ],
      "metadata": {
        "colab": {
          "base_uri": "https://localhost:8080/"
        },
        "id": "dXQntKq71PUh",
        "outputId": "4c22b0a4-ca48-47c1-b854-2973acf3af9a"
      },
      "execution_count": null,
      "outputs": [
        {
          "output_type": "execute_result",
          "data": {
            "text/plain": [
              "0    0.438438\n",
              "2    0.357357\n",
              "1    0.204204\n",
              "Name: species, dtype: float64"
            ]
          },
          "metadata": {},
          "execution_count": 64
        }
      ]
    },
    {
      "cell_type": "code",
      "source": [],
      "metadata": {
        "id": "pYCmejmX1NNP"
      },
      "execution_count": null,
      "outputs": []
    },
    {
      "cell_type": "markdown",
      "source": [
        "Este ejemplo es de clasificación, por lo que usaremos `BaggingClassifier`; para regresión, debe usarse `BaggingRegressor`.\n",
        "\n",
        "La ventaja del modelo **bagging** es que podemos usar cualquier modelo de clasificación para utilizarlo. Como se comentó, el modelo que importaremos dividirá de manera automática el conjunto de entrenamiento en subconjuntos, a los cuales entrenará de forma independiente para finalmente «votar» por aquel que dé mejor resultado.\n",
        "\n",
        "Vamos a usar `KNeighborsClassifier` para este primer ejemplo. Lo que haremos es utilizar **KNN** como lo usaríamos si fuera entrenado como ya sabemos. Para el segundo ejemplo usaremos **bagging**."
      ],
      "metadata": {
        "id": "Db_OOIWq8pK8"
      }
    },
    {
      "cell_type": "code",
      "source": [
        "#nuestros modelos\n",
        "from sklearn.neighbors import KNeighborsClassifier #k vecinos\n",
        "from sklearn.ensemble import BaggingClassifier # nuestro primer modelo de enzamblado"
      ],
      "metadata": {
        "id": "dGcgFfDMqpvp"
      },
      "execution_count": 14,
      "outputs": []
    },
    {
      "cell_type": "markdown",
      "source": [
        "El siguiente código es muy sencillo, ya que es el modelo entrenado que predice los valores para finalmente indicarnos su _accuracy_."
      ],
      "metadata": {
        "id": "B79GCJNY-WiE"
      }
    },
    {
      "cell_type": "code",
      "source": [
        "model1 = KNeighborsClassifier().fit(X_train, y_train)#activar el modelo  de nuestros datos\n",
        "model1_predict = model1.predict(X_test)#hacemos prediccion sobre test\n",
        "print('El Accuracy usando KNN es de: {}'.format(accuracy_score(model1_predict, y_test)))\n"
      ],
      "metadata": {
        "colab": {
          "base_uri": "https://localhost:8080/"
        },
        "id": "B5XZWtJd-JAX",
        "outputId": "e9c3586f-91cb-4d18-d8c4-90bc91a5a6da"
      },
      "execution_count": null,
      "outputs": [
        {
          "output_type": "stream",
          "name": "stdout",
          "text": [
            "El Accuracy usando KNN es de: 0.75\n"
          ]
        }
      ]
    },
    {
      "cell_type": "code",
      "source": [
        "from sklearn.metrics import confusion_matrix"
      ],
      "metadata": {
        "id": "CNW9aRFi33He"
      },
      "execution_count": 15,
      "outputs": []
    },
    {
      "cell_type": "code",
      "source": [
        "model1_predict#que es nuestra y que se esta prediciendo a partir de X_test\n",
        "#se hace la clasificación"
      ],
      "metadata": {
        "colab": {
          "base_uri": "https://localhost:8080/"
        },
        "id": "iqVwo3gB4hJV",
        "outputId": "e715c354-0029-443b-e453-36033bb610ee"
      },
      "execution_count": null,
      "outputs": [
        {
          "output_type": "execute_result",
          "data": {
            "text/plain": [
              "array([2, 0, 0, 2, 2, 2, 0, 2, 1, 0, 0, 2, 2, 2, 0, 0, 2, 2, 2, 1, 0, 2,\n",
              "       0, 0, 2, 0, 2, 0, 2, 0, 0, 2, 1, 0, 0, 2, 0, 0, 2, 1, 2, 2, 0, 0,\n",
              "       2, 0, 0, 0, 1, 2, 2, 2, 2, 0, 2, 2, 0, 2, 0, 0, 0, 0, 0, 0, 0, 2,\n",
              "       2, 0, 2, 2, 2, 0, 2, 0, 0, 2, 2, 0, 0, 0, 0, 1, 2, 0])"
            ]
          },
          "metadata": {},
          "execution_count": 67
        }
      ]
    },
    {
      "cell_type": "code",
      "source": [
        "cm = confusion_matrix(y_test,model1_predict)\n",
        "cm\n",
        "#24 son del grupo 0,se clasificaron 24 correctamente y se equivoco en 9\n",
        "#2 son de la clase 1\n",
        "#3 de la clase 2\n"
      ],
      "metadata": {
        "colab": {
          "base_uri": "https://localhost:8080/"
        },
        "id": "sQffi7cW33KT",
        "outputId": "edbc1678-884d-4ceb-cd1c-dbb03ead3e85"
      },
      "execution_count": null,
      "outputs": [
        {
          "output_type": "execute_result",
          "data": {
            "text/plain": [
              "array([[30,  3,  4],\n",
              "       [11,  3,  3],\n",
              "       [ 0,  0, 30]])"
            ]
          },
          "metadata": {},
          "execution_count": 68
        }
      ]
    },
    {
      "cell_type": "code",
      "source": [
        "from sklearn.metrics import ConfusionMatrixDisplay"
      ],
      "metadata": {
        "id": "sr9PkfEIADjA"
      },
      "execution_count": 16,
      "outputs": []
    },
    {
      "cell_type": "code",
      "source": [
        "ConfusionMatrixDisplay(cm).plot()"
      ],
      "metadata": {
        "colab": {
          "base_uri": "https://localhost:8080/",
          "height": 300
        },
        "id": "eUEQZWsfAP3s",
        "outputId": "d0a2a013-ce22-40d3-d108-2216e4d62fba"
      },
      "execution_count": null,
      "outputs": [
        {
          "output_type": "execute_result",
          "data": {
            "text/plain": [
              "<sklearn.metrics._plot.confusion_matrix.ConfusionMatrixDisplay at 0x7f47f2166130>"
            ]
          },
          "metadata": {},
          "execution_count": 69
        },
        {
          "output_type": "display_data",
          "data": {
            "text/plain": [
              "<Figure size 432x288 with 2 Axes>"
            ],
            "image/png": "[encoded data removed]"
          },
          "metadata": {
            "needs_background": "light"
          }
        }
      ]
    },
    {
      "cell_type": "markdown",
      "source": [
        "Haremos lo mismo, pero esta vez aplicando **bagging**."
      ],
      "metadata": {
        "id": "IfIVsfWg__by"
      }
    },
    {
      "cell_type": "code",
      "source": [
        "#genera distintas combinaciones\n",
        "model2 = BaggingClassifier(base_estimator=KNeighborsClassifier(),\n",
        "                           n_estimators= 500,#500 modelos distintos por vecinos cercanos\n",
        "                           random_state= 19).fit(X_train, y_train)"
      ],
      "metadata": {
        "id": "8Vek_ybMAfzP"
      },
      "execution_count": null,
      "outputs": []
    },
    {
      "cell_type": "markdown",
      "source": [
        "Como verás, este objeto requiere que indiquemos algunos valores:\n",
        "\n",
        "- `base_estimator`: aquí señalaremos el modelo base que usaremos, el cual será **KNN**; es importante colocar el objeto: como este es importado de **Sklearn**, por lo tanto, no entrenado, deberá tener los paréntesis, y si es necesario indicar adentro algunos argumentos, estos deben ser mencionados.\n",
        "- `n_estimators`: debemos señalar cuántos subconjuntos hará el _bagging_. Recuerda: dentro de estos pequeños conjuntos, los valores se pueden repetir. Esto no quiere decir que porque tienes 200 elementos y digas que quieres 50 estimadores, cada uno será de cuatro; _bagging_ seleccionará cuántos elementos son los más óptimos.\n",
        "- `random_state`: esta es la semilla y solo sirve para que cada vez que corramos el código siempre dé los mismos resultados, ignorando su naturaleza aleatoria."
      ],
      "metadata": {
        "id": "BLjNQihnArGI"
      }
    },
    {
      "cell_type": "markdown",
      "source": [
        "Como en el código anterior, haremos una predicción y veremos su _accuracy_."
      ],
      "metadata": {
        "id": "fkv84bguCJWv"
      }
    },
    {
      "cell_type": "code",
      "source": [
        "model2_predict = model2.predict(X_test)\n",
        "print('El Accuracy usando Bagging con KNN es de: {}'.format(accuracy_score(model2_predict, y_test)))"
      ],
      "metadata": {
        "colab": {
          "base_uri": "https://localhost:8080/"
        },
        "id": "hmxIQoKcCCCd",
        "outputId": "998b1988-13c0-4bab-bfe8-ce422ac6da7c"
      },
      "execution_count": null,
      "outputs": [
        {
          "output_type": "stream",
          "name": "stdout",
          "text": [
            "El Accuracy usando Bagging con KNN es de: 0.7261904761904762\n"
          ]
        }
      ]
    },
    {
      "cell_type": "code",
      "source": [
        "cm_2 = confusion_matrix(y_test,model2_predict)\n",
        "cm_2"
      ],
      "metadata": {
        "colab": {
          "base_uri": "https://localhost:8080/"
        },
        "id": "LX1JkEweBPx0",
        "outputId": "d26d327f-cb37-4bb7-c525-22d1fc7653c1"
      },
      "execution_count": null,
      "outputs": [
        {
          "output_type": "execute_result",
          "data": {
            "text/plain": [
              "array([[24,  2,  3],\n",
              "       [11,  1,  2],\n",
              "       [ 0,  0, 24]])"
            ]
          },
          "metadata": {},
          "execution_count": 57
        }
      ]
    },
    {
      "cell_type": "code",
      "source": [
        "ConfusionMatrixDisplay(cm_2).plot()"
      ],
      "metadata": {
        "colab": {
          "base_uri": "https://localhost:8080/",
          "height": 296
        },
        "id": "MYIPdV3cBFEt",
        "outputId": "684b7cfe-26bb-4396-e4ce-63899284f36b"
      },
      "execution_count": null,
      "outputs": [
        {
          "output_type": "execute_result",
          "data": {
            "text/plain": [
              "<sklearn.metrics._plot.confusion_matrix.ConfusionMatrixDisplay at 0x7f47f20967c0>"
            ]
          },
          "metadata": {},
          "execution_count": 58
        },
        {
          "output_type": "display_data",
          "data": {
            "text/plain": [
              "<Figure size 432x288 with 2 Axes>"
            ],
            "image/png": "[encoded data removed]"
          },
          "metadata": {
            "needs_background": "light"
          }
        }
      ]
    },
    {
      "cell_type": "markdown",
      "source": [
        "Apenas el modelo mejoró un poco más. El siguiente código hará lo mismo, pero usando `DecisionTreeClasifier`:"
      ],
      "metadata": {
        "id": "uGxjfcS7CTfN"
      }
    },
    {
      "cell_type": "code",
      "source": [
        "from sklearn.tree import DecisionTreeClassifier\n",
        "\n",
        "model3 = DecisionTreeClassifier().fit(X_train, y_train)#nuestro modelo 3\n",
        "model3_predict = model3.predict(X_test)\n",
        "print('El Accuracy usando Decition Tree es de: {}'.format(accuracy_score(model3_predict, y_test)))\n",
        "\n",
        "#nuevmente utilizamos bagging\n",
        "model4 = BaggingClassifier(base_estimator=DecisionTreeClassifier(),\n",
        "                           n_estimators= 100,\n",
        "                           random_state= 19).fit(X_train, y_train)\n",
        "model4_predict = model4.predict(X_test)\n",
        "print('El Accuracy usando Bagging con Decition Tree es de: {}'.format(accuracy_score(model4_predict, y_test)))\n"
      ],
      "metadata": {
        "colab": {
          "base_uri": "https://localhost:8080/"
        },
        "id": "pKzxTPu-CoSy",
        "outputId": "1e7a754b-0f15-4fbb-bfa8-3236a2816fe0"
      },
      "execution_count": null,
      "outputs": [
        {
          "output_type": "stream",
          "name": "stdout",
          "text": [
            "El Accuracy usando Decition Tree es de: 0.9880952380952381\n",
            "El Accuracy usando Bagging con Decition Tree es de: 0.9761904761904762\n"
          ]
        }
      ]
    },
    {
      "cell_type": "code",
      "source": [
        "cm_3 = confusion_matrix(y_test,model3_predict)\n",
        "ConfusionMatrixDisplay(cm_3).plot()"
      ],
      "metadata": {
        "colab": {
          "base_uri": "https://localhost:8080/",
          "height": 296
        },
        "id": "JkTpuoiuCpWS",
        "outputId": "425963cb-a0fc-4e07-820b-2f7905165bba"
      },
      "execution_count": null,
      "outputs": [
        {
          "output_type": "execute_result",
          "data": {
            "text/plain": [
              "<sklearn.metrics._plot.confusion_matrix.ConfusionMatrixDisplay at 0x7f47f230a340>"
            ]
          },
          "metadata": {},
          "execution_count": 73
        },
        {
          "output_type": "display_data",
          "data": {
            "text/plain": [
              "<Figure size 432x288 with 2 Axes>"
            ],
            "image/png": "[encoded data removed]"
          },
          "metadata": {
            "needs_background": "light"
          }
        }
      ]
    },
    {
      "cell_type": "markdown",
      "source": [
        "Observa cómo el resultado en el _**bagging**_ con _**decision tree**_ da como resultado `1.0`. Es evidente que es un problema de _overfitting_. Ten cuidado con este tipo de resultados."
      ],
      "metadata": {
        "id": "xmxYw0twDTPh"
      }
    },
    {
      "cell_type": "markdown",
      "source": [
        "### **Boosting**\n",
        "\n",
        "El método de _**boosting**_ es una técnica de ensamble en aprendizaje automático en la cual varios modelos débiles son entrenados para combinarse y producir un modelo más fuerte. Los modelos débiles son generalmente algoritmos simples, como árboles de decisiones, mientras que el modelo final es una combinación ponderada de estos modelos débiles. La idea detrás del _boosting_ es que cada modelo débil corrige los errores cometidos por los modelos anteriores en el ensamble, lo que finalmente conduce a un modelo más preciso.\n",
        "\n",
        "Veámoslo con el ejemplo del coche que queremos comprar. El escenario es el mismo: quieres adquirir un vehículo pero no sabes cuál, por ello te asesorarás con un mecánico, un amigo y en internet.\n",
        "\n",
        "A diferencia del _bagging_, en el que preguntábamos en paralelo y cuestionábamos a cada consultor de forma independiente, este método exige que se haga en serie, o sea, uno tras otro. Primero consultamos en internet y tomamos nota de cuál es su consejo de compra, luego compartimos ese resultado con nuestro amigo, quien nos da su retroalimentación, la cual volvemos a anotar, y finalmente compartimos esas notas con el mecánico para tomar una decisión final.\n",
        "\n",
        "Como has visto en el ejemplo anterior, son varios modelos, uno tras otro, los cuales van mejorando los resultados.\n",
        "\n",
        "![Boosting](https://drive.google.com/uc?export=view&id=194suXUZgz1SxvHiZnyqg2HIKsZm4FBxc)"
      ],
      "metadata": {
        "id": "d8B-L-3BqH1K"
      }
    },
    {
      "cell_type": "markdown",
      "source": [
        "Para ejecutar este método, básicamente se siguen los mismo pasos que el _bagging_, solo que usaremos paquetes distintos."
      ],
      "metadata": {
        "id": "g03DojvBzvL4"
      }
    },
    {
      "cell_type": "code",
      "source": [
        "from sklearn.ensemble import GradientBoostingClassifier#este modelo es muy poderoso para clasificaciones\n",
        "#xgboost x es de eXtreme de velocidad\n",
        "#hace una transformacion de optimizacion "
      ],
      "metadata": {
        "id": "ZtStBjMf05nT"
      },
      "execution_count": null,
      "outputs": []
    },
    {
      "cell_type": "markdown",
      "source": [
        "También existe una versión para modelos de regresión, llamada `ensemble.GradientBoostingRegressor`, aunque vale la pena indicar algunos aspectos. Este algoritmo funciona construyendo una secuencia de árboles de decisiones débiles, por lo que no utiliza otro tipo de algoritmo. Es opcional indicar el **gradiente de la función de pérdida** y de esta forma se podrá gestionar una mejora entre modelo y modelo.\n",
        "\n",
        "\n",
        "\n"
      ],
      "metadata": {
        "id": "G6pYusBO1W-S"
      }
    },
    {
      "cell_type": "code",
      "source": [
        "model5 = GradientBoostingClassifier(n_estimators=20, random_state= 19).fit(X_train, y_train)\n",
        "#n_estimators es el numero de modelos conectados entre si,en este caso 20 modelos\n",
        "#fit para activar el modelo"
      ],
      "metadata": {
        "id": "yacaxU4t3C6k"
      },
      "execution_count": null,
      "outputs": []
    },
    {
      "cell_type": "markdown",
      "source": [
        "En nuestro ejemplo indicaremos 50 estimadores, es decir, los modelos conectados en serie. Si gustas, puedes indicar parámetros como profundidad de los árboles o la tasa de aprendizaje. En nuestro ejemplo los omitiremos.\n",
        "\n",
        "La predicción se hace como cualquier algoritmo de la paquetería de **Sklearn**."
      ],
      "metadata": {
        "id": "Zlx0AWUL3NJ3"
      }
    },
    {
      "cell_type": "code",
      "source": [
        "model5_predict = model5.predict(X_test)\n",
        "print('El Accuracy usando Boosting es de: {}'.format(accuracy_score(model5_predict, y_test)))\n"
      ],
      "metadata": {
        "colab": {
          "base_uri": "https://localhost:8080/"
        },
        "id": "KEHJ-O023pSC",
        "outputId": "750aaa84-412f-4ab9-9771-844a292c4d47"
      },
      "execution_count": null,
      "outputs": [
        {
          "output_type": "stream",
          "name": "stdout",
          "text": [
            "El Accuracy usando Boosting es de: 0.9850746268656716\n"
          ]
        }
      ]
    },
    {
      "cell_type": "code",
      "source": [
        "cm_5 = confusion_matrix(y_test,model5_predict)\n",
        "cm_5"
      ],
      "metadata": {
        "colab": {
          "base_uri": "https://localhost:8080/"
        },
        "id": "lpj8NiVcEhEb",
        "outputId": "ca6fe748-8ecd-44d7-f598-62f843de7535"
      },
      "execution_count": null,
      "outputs": [
        {
          "output_type": "execute_result",
          "data": {
            "text/plain": [
              "array([[28,  1,  0],\n",
              "       [ 0, 14,  0],\n",
              "       [ 0,  0, 24]])"
            ]
          },
          "metadata": {},
          "execution_count": 26
        }
      ]
    },
    {
      "cell_type": "code",
      "source": [
        "cm_4 = confusion_matrix(y_test,model5_predict)\n",
        "ConfusionMatrixDisplay(cm_4).plot()"
      ],
      "metadata": {
        "colab": {
          "base_uri": "https://localhost:8080/",
          "height": 296
        },
        "id": "jk9rFkKyD9fD",
        "outputId": "40304eae-b7a5-43f2-8531-63ee184a66a9"
      },
      "execution_count": null,
      "outputs": [
        {
          "output_type": "execute_result",
          "data": {
            "text/plain": [
              "<sklearn.metrics._plot.confusion_matrix.ConfusionMatrixDisplay at 0x7fa07bdb5700>"
            ]
          },
          "metadata": {},
          "execution_count": 27
        },
        {
          "output_type": "display_data",
          "data": {
            "text/plain": [
              "<Figure size 432x288 with 2 Axes>"
            ],
            "image/png": "[encoded data removed]"
          },
          "metadata": {
            "needs_background": "light"
          }
        }
      ]
    },
    {
      "cell_type": "markdown",
      "source": [
        "Nota que el resultado es `1.0`, lo que no es bueno ver, pero esto se debe a que el modelo revisado es muy pequeño, por lo que la aplicación del algoritmo está generando un sobreajuste.\n",
        "\n",
        "Vamos a generar un _dataset_ ficticio que nos ayudará a practicar. Para eso usaremos el siguiente código:"
      ],
      "metadata": {
        "id": "Dg_pE7Ku4LwH"
      }
    },
    {
      "cell_type": "code",
      "source": [
        "from pandas.core.arrays.sparse import array\n",
        "import pandas as pd\n",
        "from sklearn.datasets import make_classification\n",
        "#set de datos con datos sinteticos\n",
        "array_sample = make_classification(n_samples= 2000, #2000 registros\n",
        "                                   n_features= 7, #7 variables\n",
        "                                   n_classes= 4, #4 clases\n",
        "                                   n_informative=3,#3 datos informativos ,que si tenen informacion\n",
        "                                   random_state= 19)\n",
        "#convertimos a dtaframe\n",
        "df_sample = pd.DataFrame(array_sample[0], \n",
        "                         columns=[\n",
        "                             'Feature 1', \n",
        "                             'Feature 2',\n",
        "                             'Feature 3',\n",
        "                             'Feature 4',\n",
        "                             'Feature 5',\n",
        "                             'Feature 6',\n",
        "                             'Feature 7',\n",
        "                             ])\n",
        "#agregamos la columna label\n",
        "df_sample['Label'] = array_sample[1]"
      ],
      "metadata": {
        "id": "u7bed0fM53Tp"
      },
      "execution_count": 5,
      "outputs": []
    },
    {
      "cell_type": "code",
      "source": [
        "df_sample.head()"
      ],
      "metadata": {
        "colab": {
          "base_uri": "https://localhost:8080/",
          "height": 206
        },
        "id": "PrKp0kbb7B2O",
        "outputId": "fea723c2-f64b-4a0a-92c0-2ae28618a3e1"
      },
      "execution_count": 6,
      "outputs": [
        {
          "output_type": "execute_result",
          "data": {
            "text/plain": [
              "   Feature 1  Feature 2  Feature 3  Feature 4  Feature 5  Feature 6  \\\n",
              "0   1.248399   0.288446   0.989781   1.134189   0.471949  -0.606530   \n",
              "1   2.461419   0.519658  -1.808511  -1.158262   1.473645  -1.772564   \n",
              "2  -0.682646  -0.554511  -0.525250   0.882634   0.868396  -0.874409   \n",
              "3  -0.798854  -1.136716  -0.918318  -2.751196   0.232908  -0.181391   \n",
              "4  -0.450719  -0.052984  -0.435610  -0.136504  -1.396533   1.529541   \n",
              "\n",
              "   Feature 7  Label  \n",
              "0   0.751970      1  \n",
              "1  -0.261430      1  \n",
              "2  -0.198417      0  \n",
              "3  -1.608111      1  \n",
              "4   0.352649      2  "
            ],
            "text/html": [
              "\n",
              "  <div id=\"df-f43a7f48-d1a1-4476-bc9e-6d31a659fddf\">\n",
              "    <div class=\"colab-df-container\">\n",
              "      <div>\n",
              "<style scoped>\n",
              "    .dataframe tbody tr th:only-of-type {\n",
              "        vertical-align: middle;\n",
              "    }\n",
              "\n",
              "    .dataframe tbody tr th {\n",
              "        vertical-align: top;\n",
              "    }\n",
              "\n",
              "    .dataframe thead th {\n",
              "        text-align: right;\n",
              "    }\n",
              "</style>\n",
              "<table border=\"1\" class=\"dataframe\">\n",
              "  <thead>\n",
              "    <tr style=\"text-align: right;\">\n",
              "      <th></th>\n",
              "      <th>Feature 1</th>\n",
              "      <th>Feature 2</th>\n",
              "      <th>Feature 3</th>\n",
              "      <th>Feature 4</th>\n",
              "      <th>Feature 5</th>\n",
              "      <th>Feature 6</th>\n",
              "      <th>Feature 7</th>\n",
              "      <th>Label</th>\n",
              "    </tr>\n",
              "  </thead>\n",
              "  <tbody>\n",
              "    <tr>\n",
              "      <th>0</th>\n",
              "      <td>1.248399</td>\n",
              "      <td>0.288446</td>\n",
              "      <td>0.989781</td>\n",
              "      <td>1.134189</td>\n",
              "      <td>0.471949</td>\n",
              "      <td>-0.606530</td>\n",
              "      <td>0.751970</td>\n",
              "      <td>1</td>\n",
              "    </tr>\n",
              "    <tr>\n",
              "      <th>1</th>\n",
              "      <td>2.461419</td>\n",
              "      <td>0.519658</td>\n",
              "      <td>-1.808511</td>\n",
              "      <td>-1.158262</td>\n",
              "      <td>1.473645</td>\n",
              "      <td>-1.772564</td>\n",
              "      <td>-0.261430</td>\n",
              "      <td>1</td>\n",
              "    </tr>\n",
              "    <tr>\n",
              "      <th>2</th>\n",
              "      <td>-0.682646</td>\n",
              "      <td>-0.554511</td>\n",
              "      <td>-0.525250</td>\n",
              "      <td>0.882634</td>\n",
              "      <td>0.868396</td>\n",
              "      <td>-0.874409</td>\n",
              "      <td>-0.198417</td>\n",
              "      <td>0</td>\n",
              "    </tr>\n",
              "    <tr>\n",
              "      <th>3</th>\n",
              "      <td>-0.798854</td>\n",
              "      <td>-1.136716</td>\n",
              "      <td>-0.918318</td>\n",
              "      <td>-2.751196</td>\n",
              "      <td>0.232908</td>\n",
              "      <td>-0.181391</td>\n",
              "      <td>-1.608111</td>\n",
              "      <td>1</td>\n",
              "    </tr>\n",
              "    <tr>\n",
              "      <th>4</th>\n",
              "      <td>-0.450719</td>\n",
              "      <td>-0.052984</td>\n",
              "      <td>-0.435610</td>\n",
              "      <td>-0.136504</td>\n",
              "      <td>-1.396533</td>\n",
              "      <td>1.529541</td>\n",
              "      <td>0.352649</td>\n",
              "      <td>2</td>\n",
              "    </tr>\n",
              "  </tbody>\n",
              "</table>\n",
              "</div>\n",
              "      <button class=\"colab-df-convert\" onclick=\"convertToInteractive('df-f43a7f48-d1a1-4476-bc9e-6d31a659fddf')\"\n",
              "              title=\"Convert this dataframe to an interactive table.\"\n",
              "              style=\"display:none;\">\n",
              "        \n",
              "  <svg xmlns=\"http://www.w3.org/2000/svg\" height=\"24px\"viewBox=\"0 0 24 24\"\n",
              "       width=\"24px\">\n",
              "    <path d=\"M0 0h24v24H0V0z\" fill=\"none\"/>\n",
              "    <path d=\"M18.56 5.44l.94 2.06.94-2.06 2.06-.94-2.06-.94-.94-2.06-.94 2.06-2.06.94zm-11 1L8.5 8.5l.94-2.06 2.06-.94-2.06-.94L8.5 2.5l-.94 2.06-2.06.94zm10 10l.94 2.06.94-2.06 2.06-.94-2.06-.94-.94-2.06-.94 2.06-2.06.94z\"/><path d=\"M17.41 7.96l-1.37-1.37c-.4-.4-.92-.59-1.43-.59-.52 0-1.04.2-1.43.59L10.3 9.45l-7.72 7.72c-.78.78-.78 2.05 0 2.83L4 21.41c.39.39.9.59 1.41.59.51 0 1.02-.2 1.41-.59l7.78-7.78 2.81-2.81c.8-.78.8-2.07 0-2.86zM5.41 20L4 18.59l7.72-7.72 1.47 1.35L5.41 20z\"/>\n",
              "  </svg>\n",
              "      </button>\n",
              "      \n",
              "  <style>\n",
              "    .colab-df-container {\n",
              "      display:flex;\n",
              "      flex-wrap:wrap;\n",
              "      gap: 12px;\n",
              "    }\n",
              "\n",
              "    .colab-df-convert {\n",
              "      background-color: #E8F0FE;\n",
              "      border: none;\n",
              "      border-radius: 50%;\n",
              "      cursor: pointer;\n",
              "      display: none;\n",
              "      fill: #1967D2;\n",
              "      height: 32px;\n",
              "      padding: 0 0 0 0;\n",
              "      width: 32px;\n",
              "    }\n",
              "\n",
              "    .colab-df-convert:hover {\n",
              "      background-color: #E2EBFA;\n",
              "      box-shadow: 0px 1px 2px rgba(60, 64, 67, 0.3), 0px 1px 3px 1px rgba(60, 64, 67, 0.15);\n",
              "      fill: #174EA6;\n",
              "    }\n",
              "\n",
              "    [theme=dark] .colab-df-convert {\n",
              "      background-color: #3B4455;\n",
              "      fill: #D2E3FC;\n",
              "    }\n",
              "\n",
              "    [theme=dark] .colab-df-convert:hover {\n",
              "      background-color: #434B5C;\n",
              "      box-shadow: 0px 1px 3px 1px rgba(0, 0, 0, 0.15);\n",
              "      filter: drop-shadow(0px 1px 2px rgba(0, 0, 0, 0.3));\n",
              "      fill: #FFFFFF;\n",
              "    }\n",
              "  </style>\n",
              "\n",
              "      <script>\n",
              "        const buttonEl =\n",
              "          document.querySelector('#df-f43a7f48-d1a1-4476-bc9e-6d31a659fddf button.colab-df-convert');\n",
              "        buttonEl.style.display =\n",
              "          google.colab.kernel.accessAllowed ? 'block' : 'none';\n",
              "\n",
              "        async function convertToInteractive(key) {\n",
              "          const element = document.querySelector('#df-f43a7f48-d1a1-4476-bc9e-6d31a659fddf');\n",
              "          const dataTable =\n",
              "            await google.colab.kernel.invokeFunction('convertToInteractive',\n",
              "                                                     [key], {});\n",
              "          if (!dataTable) return;\n",
              "\n",
              "          const docLinkHtml = 'Like what you see? Visit the ' +\n",
              "            '<a target=\"_blank\" href=https://colab.research.google.com/notebooks/data_table.ipynb>data table notebook</a>'\n",
              "            + ' to learn more about interactive tables.';\n",
              "          element.innerHTML = '';\n",
              "          dataTable['output_type'] = 'display_data';\n",
              "          await google.colab.output.renderOutput(dataTable, element);\n",
              "          const docLink = document.createElement('div');\n",
              "          docLink.innerHTML = docLinkHtml;\n",
              "          element.appendChild(docLink);\n",
              "        }\n",
              "      </script>\n",
              "    </div>\n",
              "  </div>\n",
              "  "
            ]
          },
          "metadata": {},
          "execution_count": 6
        }
      ]
    },
    {
      "cell_type": "code",
      "source": [
        "df_sample['Label'].value_counts()\n",
        "#tenemos 4 categorias de manera uniforme"
      ],
      "metadata": {
        "colab": {
          "base_uri": "https://localhost:8080/"
        },
        "id": "DYnfucGRGxHb",
        "outputId": "9f2bab89-eebc-4511-e4e7-e1b4b7186bc7"
      },
      "execution_count": 7,
      "outputs": [
        {
          "output_type": "execute_result",
          "data": {
            "text/plain": [
              "0    506\n",
              "3    501\n",
              "2    500\n",
              "1    493\n",
              "Name: Label, dtype: int64"
            ]
          },
          "metadata": {},
          "execution_count": 7
        }
      ]
    },
    {
      "cell_type": "markdown",
      "source": [
        "# Exploración de Datos"
      ],
      "metadata": {
        "id": "xh-FlCbTJMGc"
      }
    },
    {
      "cell_type": "code",
      "source": [
        "df_sample.describe().T\n",
        "#Observar nuestro datos"
      ],
      "metadata": {
        "colab": {
          "base_uri": "https://localhost:8080/",
          "height": 300
        },
        "id": "Xchg3xHKHA9H",
        "outputId": "8bd427e1-15d7-4608-826e-749902af8a7b"
      },
      "execution_count": null,
      "outputs": [
        {
          "output_type": "execute_result",
          "data": {
            "text/plain": [
              "            count      mean       std       min       25%       50%       75%  \\\n",
              "Feature 1  2000.0  0.014081  1.447860 -4.612780 -1.084928  0.059513  1.101048   \n",
              "Feature 2  2000.0 -0.005331  1.001797 -3.640297 -0.684929  0.026174  0.677553   \n",
              "Feature 3  2000.0 -0.029279  0.980184 -3.291802 -0.715055 -0.034207  0.634536   \n",
              "Feature 4  2000.0 -0.008707  1.429820 -5.029554 -1.083515 -0.124822  1.014670   \n",
              "Feature 5  2000.0  0.004717  1.290136 -3.814748 -0.948596 -0.054358  0.963934   \n",
              "Feature 6  2000.0 -0.006168  1.385875 -3.903694 -1.053107  0.050360  1.018458   \n",
              "Feature 7  2000.0 -0.000909  0.964687 -3.801738 -0.634989 -0.033582  0.597099   \n",
              "Label      2000.0  1.498000  1.121439  0.000000  0.000000  2.000000  3.000000   \n",
              "\n",
              "                max  \n",
              "Feature 1  4.371746  \n",
              "Feature 2  2.716159  \n",
              "Feature 3  3.597676  \n",
              "Feature 4  4.781482  \n",
              "Feature 5  3.937516  \n",
              "Feature 6  4.211266  \n",
              "Feature 7  3.103943  \n",
              "Label      3.000000  "
            ],
            "text/html": [
              "\n",
              "  <div id=\"df-2c63392d-08c3-4a30-96c8-87649aa36ec7\">\n",
              "    <div class=\"colab-df-container\">\n",
              "      <div>\n",
              "<style scoped>\n",
              "    .dataframe tbody tr th:only-of-type {\n",
              "        vertical-align: middle;\n",
              "    }\n",
              "\n",
              "    .dataframe tbody tr th {\n",
              "        vertical-align: top;\n",
              "    }\n",
              "\n",
              "    .dataframe thead th {\n",
              "        text-align: right;\n",
              "    }\n",
              "</style>\n",
              "<table border=\"1\" class=\"dataframe\">\n",
              "  <thead>\n",
              "    <tr style=\"text-align: right;\">\n",
              "      <th></th>\n",
              "      <th>count</th>\n",
              "      <th>mean</th>\n",
              "      <th>std</th>\n",
              "      <th>min</th>\n",
              "      <th>25%</th>\n",
              "      <th>50%</th>\n",
              "      <th>75%</th>\n",
              "      <th>max</th>\n",
              "    </tr>\n",
              "  </thead>\n",
              "  <tbody>\n",
              "    <tr>\n",
              "      <th>Feature 1</th>\n",
              "      <td>2000.0</td>\n",
              "      <td>0.014081</td>\n",
              "      <td>1.447860</td>\n",
              "      <td>-4.612780</td>\n",
              "      <td>-1.084928</td>\n",
              "      <td>0.059513</td>\n",
              "      <td>1.101048</td>\n",
              "      <td>4.371746</td>\n",
              "    </tr>\n",
              "    <tr>\n",
              "      <th>Feature 2</th>\n",
              "      <td>2000.0</td>\n",
              "      <td>-0.005331</td>\n",
              "      <td>1.001797</td>\n",
              "      <td>-3.640297</td>\n",
              "      <td>-0.684929</td>\n",
              "      <td>0.026174</td>\n",
              "      <td>0.677553</td>\n",
              "      <td>2.716159</td>\n",
              "    </tr>\n",
              "    <tr>\n",
              "      <th>Feature 3</th>\n",
              "      <td>2000.0</td>\n",
              "      <td>-0.029279</td>\n",
              "      <td>0.980184</td>\n",
              "      <td>-3.291802</td>\n",
              "      <td>-0.715055</td>\n",
              "      <td>-0.034207</td>\n",
              "      <td>0.634536</td>\n",
              "      <td>3.597676</td>\n",
              "    </tr>\n",
              "    <tr>\n",
              "      <th>Feature 4</th>\n",
              "      <td>2000.0</td>\n",
              "      <td>-0.008707</td>\n",
              "      <td>1.429820</td>\n",
              "      <td>-5.029554</td>\n",
              "      <td>-1.083515</td>\n",
              "      <td>-0.124822</td>\n",
              "      <td>1.014670</td>\n",
              "      <td>4.781482</td>\n",
              "    </tr>\n",
              "    <tr>\n",
              "      <th>Feature 5</th>\n",
              "      <td>2000.0</td>\n",
              "      <td>0.004717</td>\n",
              "      <td>1.290136</td>\n",
              "      <td>-3.814748</td>\n",
              "      <td>-0.948596</td>\n",
              "      <td>-0.054358</td>\n",
              "      <td>0.963934</td>\n",
              "      <td>3.937516</td>\n",
              "    </tr>\n",
              "    <tr>\n",
              "      <th>Feature 6</th>\n",
              "      <td>2000.0</td>\n",
              "      <td>-0.006168</td>\n",
              "      <td>1.385875</td>\n",
              "      <td>-3.903694</td>\n",
              "      <td>-1.053107</td>\n",
              "      <td>0.050360</td>\n",
              "      <td>1.018458</td>\n",
              "      <td>4.211266</td>\n",
              "    </tr>\n",
              "    <tr>\n",
              "      <th>Feature 7</th>\n",
              "      <td>2000.0</td>\n",
              "      <td>-0.000909</td>\n",
              "      <td>0.964687</td>\n",
              "      <td>-3.801738</td>\n",
              "      <td>-0.634989</td>\n",
              "      <td>-0.033582</td>\n",
              "      <td>0.597099</td>\n",
              "      <td>3.103943</td>\n",
              "    </tr>\n",
              "    <tr>\n",
              "      <th>Label</th>\n",
              "      <td>2000.0</td>\n",
              "      <td>1.498000</td>\n",
              "      <td>1.121439</td>\n",
              "      <td>0.000000</td>\n",
              "      <td>0.000000</td>\n",
              "      <td>2.000000</td>\n",
              "      <td>3.000000</td>\n",
              "      <td>3.000000</td>\n",
              "    </tr>\n",
              "  </tbody>\n",
              "</table>\n",
              "</div>\n",
              "      <button class=\"colab-df-convert\" onclick=\"convertToInteractive('df-2c63392d-08c3-4a30-96c8-87649aa36ec7')\"\n",
              "              title=\"Convert this dataframe to an interactive table.\"\n",
              "              style=\"display:none;\">\n",
              "        \n",
              "  <svg xmlns=\"http://www.w3.org/2000/svg\" height=\"24px\"viewBox=\"0 0 24 24\"\n",
              "       width=\"24px\">\n",
              "    <path d=\"M0 0h24v24H0V0z\" fill=\"none\"/>\n",
              "    <path d=\"M18.56 5.44l.94 2.06.94-2.06 2.06-.94-2.06-.94-.94-2.06-.94 2.06-2.06.94zm-11 1L8.5 8.5l.94-2.06 2.06-.94-2.06-.94L8.5 2.5l-.94 2.06-2.06.94zm10 10l.94 2.06.94-2.06 2.06-.94-2.06-.94-.94-2.06-.94 2.06-2.06.94z\"/><path d=\"M17.41 7.96l-1.37-1.37c-.4-.4-.92-.59-1.43-.59-.52 0-1.04.2-1.43.59L10.3 9.45l-7.72 7.72c-.78.78-.78 2.05 0 2.83L4 21.41c.39.39.9.59 1.41.59.51 0 1.02-.2 1.41-.59l7.78-7.78 2.81-2.81c.8-.78.8-2.07 0-2.86zM5.41 20L4 18.59l7.72-7.72 1.47 1.35L5.41 20z\"/>\n",
              "  </svg>\n",
              "      </button>\n",
              "      \n",
              "  <style>\n",
              "    .colab-df-container {\n",
              "      display:flex;\n",
              "      flex-wrap:wrap;\n",
              "      gap: 12px;\n",
              "    }\n",
              "\n",
              "    .colab-df-convert {\n",
              "      background-color: #E8F0FE;\n",
              "      border: none;\n",
              "      border-radius: 50%;\n",
              "      cursor: pointer;\n",
              "      display: none;\n",
              "      fill: #1967D2;\n",
              "      height: 32px;\n",
              "      padding: 0 0 0 0;\n",
              "      width: 32px;\n",
              "    }\n",
              "\n",
              "    .colab-df-convert:hover {\n",
              "      background-color: #E2EBFA;\n",
              "      box-shadow: 0px 1px 2px rgba(60, 64, 67, 0.3), 0px 1px 3px 1px rgba(60, 64, 67, 0.15);\n",
              "      fill: #174EA6;\n",
              "    }\n",
              "\n",
              "    [theme=dark] .colab-df-convert {\n",
              "      background-color: #3B4455;\n",
              "      fill: #D2E3FC;\n",
              "    }\n",
              "\n",
              "    [theme=dark] .colab-df-convert:hover {\n",
              "      background-color: #434B5C;\n",
              "      box-shadow: 0px 1px 3px 1px rgba(0, 0, 0, 0.15);\n",
              "      filter: drop-shadow(0px 1px 2px rgba(0, 0, 0, 0.3));\n",
              "      fill: #FFFFFF;\n",
              "    }\n",
              "  </style>\n",
              "\n",
              "      <script>\n",
              "        const buttonEl =\n",
              "          document.querySelector('#df-2c63392d-08c3-4a30-96c8-87649aa36ec7 button.colab-df-convert');\n",
              "        buttonEl.style.display =\n",
              "          google.colab.kernel.accessAllowed ? 'block' : 'none';\n",
              "\n",
              "        async function convertToInteractive(key) {\n",
              "          const element = document.querySelector('#df-2c63392d-08c3-4a30-96c8-87649aa36ec7');\n",
              "          const dataTable =\n",
              "            await google.colab.kernel.invokeFunction('convertToInteractive',\n",
              "                                                     [key], {});\n",
              "          if (!dataTable) return;\n",
              "\n",
              "          const docLinkHtml = 'Like what you see? Visit the ' +\n",
              "            '<a target=\"_blank\" href=https://colab.research.google.com/notebooks/data_table.ipynb>data table notebook</a>'\n",
              "            + ' to learn more about interactive tables.';\n",
              "          element.innerHTML = '';\n",
              "          dataTable['output_type'] = 'display_data';\n",
              "          await google.colab.output.renderOutput(dataTable, element);\n",
              "          const docLink = document.createElement('div');\n",
              "          docLink.innerHTML = docLinkHtml;\n",
              "          element.appendChild(docLink);\n",
              "        }\n",
              "      </script>\n",
              "    </div>\n",
              "  </div>\n",
              "  "
            ]
          },
          "metadata": {},
          "execution_count": 11
        }
      ]
    },
    {
      "cell_type": "code",
      "source": [
        "df_sample.info()"
      ],
      "metadata": {
        "colab": {
          "base_uri": "https://localhost:8080/"
        },
        "id": "jQBwqd6KI1bs",
        "outputId": "23491bcf-17e7-48f8-f7c1-33f98fb5f9a1"
      },
      "execution_count": null,
      "outputs": [
        {
          "output_type": "stream",
          "name": "stdout",
          "text": [
            "<class 'pandas.core.frame.DataFrame'>\n",
            "RangeIndex: 2000 entries, 0 to 1999\n",
            "Data columns (total 8 columns):\n",
            " #   Column     Non-Null Count  Dtype  \n",
            "---  ------     --------------  -----  \n",
            " 0   Feature 1  2000 non-null   float64\n",
            " 1   Feature 2  2000 non-null   float64\n",
            " 2   Feature 3  2000 non-null   float64\n",
            " 3   Feature 4  2000 non-null   float64\n",
            " 4   Feature 5  2000 non-null   float64\n",
            " 5   Feature 6  2000 non-null   float64\n",
            " 6   Feature 7  2000 non-null   float64\n",
            " 7   Label      2000 non-null   int64  \n",
            "dtypes: float64(7), int64(1)\n",
            "memory usage: 125.1 KB\n"
          ]
        }
      ]
    },
    {
      "cell_type": "code",
      "source": [
        "sns.scatterplot(x='Feature 1',y='Feature 7',hue='Label',data=df_sample)"
      ],
      "metadata": {
        "colab": {
          "base_uri": "https://localhost:8080/",
          "height": 296
        },
        "id": "Zo065xAyI1fa",
        "outputId": "e089063a-32ce-4527-93ed-15a6d3eb0b1c"
      },
      "execution_count": null,
      "outputs": [
        {
          "output_type": "execute_result",
          "data": {
            "text/plain": [
              "<AxesSubplot:xlabel='Feature 1', ylabel='Feature 7'>"
            ]
          },
          "metadata": {},
          "execution_count": 13
        },
        {
          "output_type": "display_data",
          "data": {
            "text/plain": [
              "<Figure size 432x288 with 1 Axes>"
            ],
            "image/png": "[encoded data removed]"
          },
          "metadata": {
            "needs_background": "light"
          }
        }
      ]
    },
    {
      "cell_type": "code",
      "source": [
        "sns.scatterplot(x='Feature 2',y='Feature 7',hue='Label',data=df_sample)\n"
      ],
      "metadata": {
        "colab": {
          "base_uri": "https://localhost:8080/",
          "height": 296
        },
        "id": "mNts52zDKFiv",
        "outputId": "39e48461-b8d3-4fa3-c81f-b1127486263e"
      },
      "execution_count": null,
      "outputs": [
        {
          "output_type": "execute_result",
          "data": {
            "text/plain": [
              "<AxesSubplot:xlabel='Feature 2', ylabel='Feature 7'>"
            ]
          },
          "metadata": {},
          "execution_count": 14
        },
        {
          "output_type": "display_data",
          "data": {
            "text/plain": [
              "<Figure size 432x288 with 1 Axes>"
            ],
            "image/png": "[encoded data removed]"
          },
          "metadata": {
            "needs_background": "light"
          }
        }
      ]
    },
    {
      "cell_type": "markdown",
      "source": [
        "# Preparar datos de entrenamiento y prueba al .25(test)"
      ],
      "metadata": {
        "id": "BmE49-mQLlSQ"
      }
    },
    {
      "cell_type": "code",
      "source": [
        "X = df_sample.drop('Label',axis=1)\n",
        "#df_sample.drop(columns=['Label'])"
      ],
      "metadata": {
        "id": "L8v8om_6LzOa"
      },
      "execution_count": 8,
      "outputs": []
    },
    {
      "cell_type": "code",
      "source": [
        "y=df_sample[['Label']]"
      ],
      "metadata": {
        "id": "q5uaxVB3MUK4"
      },
      "execution_count": 9,
      "outputs": []
    },
    {
      "cell_type": "code",
      "source": [
        "#dividimos nuestro data train y test\n",
        "from sklearn.model_selection import train_test_split\n",
        "X_train, X_test, y_train, y_test = train_test_split(\n",
        "    X, \n",
        "    y, \n",
        "    test_size= 0.25,#tamaño de 20% para prueba\n",
        "    random_state= 19,\n",
        "    stratify = y #ayuda para cuando los datos estan muy desvalanceados\n",
        "    #en nuesro caso estan balanceados\n",
        ")"
      ],
      "metadata": {
        "id": "PWhLdCDbKFz6"
      },
      "execution_count": 11,
      "outputs": []
    },
    {
      "cell_type": "markdown",
      "source": [
        "# Probar con Baggin con DecitionTree y Boosting"
      ],
      "metadata": {
        "id": "1ik5Tp0NNDMQ"
      }
    },
    {
      "cell_type": "code",
      "source": [
        "from sklearn.tree import DecisionTreeClassifier\n",
        "from sklearn.ensemble import BaggingClassifier\n",
        "\n",
        "model_bagging = BaggingClassifier(base_estimator=DecisionTreeClassifier(),\n",
        "                           n_estimators= 100,\n",
        "                           random_state= 19).fit(X_train, y_train)\n"
      ],
      "metadata": {
        "colab": {
          "base_uri": "https://localhost:8080/"
        },
        "id": "unzt6zkINBtD",
        "outputId": "33d61674-d6c0-4df8-984b-08d0fb98229f"
      },
      "execution_count": 12,
      "outputs": [
        {
          "output_type": "stream",
          "name": "stderr",
          "text": [
            "/usr/local/lib/python3.8/dist-packages/sklearn/ensemble/_bagging.py:719: DataConversionWarning: A column-vector y was passed when a 1d array was expected. Please change the shape of y to (n_samples, ), for example using ravel().\n",
            "  y = column_or_1d(y, warn=True)\n"
          ]
        }
      ]
    },
    {
      "cell_type": "code",
      "source": [
        "from sklearn.metrics import accuracy_score #metricas\n",
        "\n",
        "model_bagging_predict = model_bagging.predict(X_test)\n",
        "print('El Accuracy usando Bagging con Decition Tree es de: {}'.format(accuracy_score(model_bagging_predict, y_test)))\n"
      ],
      "metadata": {
        "colab": {
          "base_uri": "https://localhost:8080/"
        },
        "id": "w6wg1wQwKw37",
        "outputId": "739f7078-b4d1-42fb-d5f0-77551ea003f9"
      },
      "execution_count": 15,
      "outputs": [
        {
          "output_type": "stream",
          "name": "stdout",
          "text": [
            "El Accuracy usando Bagging con Decition Tree es de: 0.862\n"
          ]
        }
      ]
    },
    {
      "cell_type": "code",
      "source": [
        "from sklearn.metrics import ConfusionMatrixDisplay\n",
        "from sklearn.metrics import confusion_matrix\n",
        "\n",
        "c_bagging = confusion_matrix(y_test,model_bagging_predict)\n",
        "ConfusionMatrixDisplay(c_bagging).plot()\n",
        "#tiene un precision del 86% lo que no esta tan mal el modelo"
      ],
      "metadata": {
        "colab": {
          "base_uri": "https://localhost:8080/",
          "height": 296
        },
        "id": "4VnqWvrsNGQV",
        "outputId": "b8e607c8-76e7-4eb4-f8d6-2eec517aad55"
      },
      "execution_count": 17,
      "outputs": [
        {
          "output_type": "execute_result",
          "data": {
            "text/plain": [
              "<sklearn.metrics._plot.confusion_matrix.ConfusionMatrixDisplay at 0x7f3b9300e490>"
            ]
          },
          "metadata": {},
          "execution_count": 17
        },
        {
          "output_type": "display_data",
          "data": {
            "text/plain": [
              "<Figure size 432x288 with 2 Axes>"
            ],
            "image/png": "[encoded data removed]"
          },
          "metadata": {
            "needs_background": "light"
          }
        }
      ]
    },
    {
      "cell_type": "code",
      "source": [
        "from sklearn.ensemble import GradientBoostingClassifier\n",
        "model_boosting = GradientBoostingClassifier(n_estimators=50, random_state= 19).fit(X_train, y_train)\n"
      ],
      "metadata": {
        "colab": {
          "base_uri": "https://localhost:8080/"
        },
        "id": "qvqGu5qHNGcl",
        "outputId": "67fbcb9d-3429-420e-a1e6-534169b8976d"
      },
      "execution_count": 18,
      "outputs": [
        {
          "output_type": "stream",
          "name": "stderr",
          "text": [
            "/usr/local/lib/python3.8/dist-packages/sklearn/ensemble/_gb.py:494: DataConversionWarning: A column-vector y was passed when a 1d array was expected. Please change the shape of y to (n_samples, ), for example using ravel().\n",
            "  y = column_or_1d(y, warn=True)\n"
          ]
        }
      ]
    },
    {
      "cell_type": "code",
      "source": [
        "model_boosting_predict = model_boosting.predict(X_test)\n",
        "print('El Accuracy usando Boosting es de: {}'.format(accuracy_score(model_boosting_predict, y_test)))\n"
      ],
      "metadata": {
        "colab": {
          "base_uri": "https://localhost:8080/"
        },
        "id": "g2-5FHN1NGfU",
        "outputId": "02111e0c-8022-43c6-dc15-0baff7ad1cfe"
      },
      "execution_count": 19,
      "outputs": [
        {
          "output_type": "stream",
          "name": "stdout",
          "text": [
            "El Accuracy usando Boosting es de: 0.844\n"
          ]
        }
      ]
    },
    {
      "cell_type": "code",
      "source": [
        "c_boosting = confusion_matrix(y_test,model_boosting_predict )\n",
        "ConfusionMatrixDisplay(c_boosting).plot()"
      ],
      "metadata": {
        "colab": {
          "base_uri": "https://localhost:8080/",
          "height": 296
        },
        "id": "gb0DzgDSQBLr",
        "outputId": "311fae5e-4519-495d-f895-463d89e92726"
      },
      "execution_count": 20,
      "outputs": [
        {
          "output_type": "execute_result",
          "data": {
            "text/plain": [
              "<sklearn.metrics._plot.confusion_matrix.ConfusionMatrixDisplay at 0x7f3b91840490>"
            ]
          },
          "metadata": {},
          "execution_count": 20
        },
        {
          "output_type": "display_data",
          "data": {
            "text/plain": [
              "<Figure size 432x288 with 2 Axes>"
            ],
            "image/png": "[encoded data removed]"
          },
          "metadata": {
            "needs_background": "light"
          }
        }
      ]
    },
    {
      "cell_type": "code",
      "source": [
        "import pickle\n",
        "#Guardamos nuestro modelo\n",
        "filename = 'model_bagging.sav'#nuestro archivo del modelo que resulto del entrenamiento \n",
        "pickle.dump(model_bagging,open(filename,'wb'))"
      ],
      "metadata": {
        "id": "mCz7OohuQTJW"
      },
      "execution_count": 21,
      "outputs": []
    },
    {
      "cell_type": "code",
      "source": [
        "#cargar el modelo,solo se manda a llamar el modelo\n",
        "loaded_model = pickle.load(open(filename,'rb'))"
      ],
      "metadata": {
        "id": "jlI1Eu_XRTMG"
      },
      "execution_count": 22,
      "outputs": []
    },
    {
      "cell_type": "code",
      "source": [
        "X_test.tail(1)"
      ],
      "metadata": {
        "colab": {
          "base_uri": "https://localhost:8080/",
          "height": 81
        },
        "id": "Nz4ox59GSHpz",
        "outputId": "5c2c29bc-371d-4fd8-d7e0-4a43aeecf29c"
      },
      "execution_count": 23,
      "outputs": [
        {
          "output_type": "execute_result",
          "data": {
            "text/plain": [
              "     Feature 1  Feature 2  Feature 3  Feature 4  Feature 5  Feature 6  \\\n",
              "868   1.035421  -0.644404   0.028982   1.629294   0.365133  -0.475741   \n",
              "\n",
              "     Feature 7  \n",
              "868   0.943155  "
            ],
            "text/html": [
              "\n",
              "  <div id=\"df-89cc2419-2e3d-4f5f-ba5b-9cc7011d1e69\">\n",
              "    <div class=\"colab-df-container\">\n",
              "      <div>\n",
              "<style scoped>\n",
              "    .dataframe tbody tr th:only-of-type {\n",
              "        vertical-align: middle;\n",
              "    }\n",
              "\n",
              "    .dataframe tbody tr th {\n",
              "        vertical-align: top;\n",
              "    }\n",
              "\n",
              "    .dataframe thead th {\n",
              "        text-align: right;\n",
              "    }\n",
              "</style>\n",
              "<table border=\"1\" class=\"dataframe\">\n",
              "  <thead>\n",
              "    <tr style=\"text-align: right;\">\n",
              "      <th></th>\n",
              "      <th>Feature 1</th>\n",
              "      <th>Feature 2</th>\n",
              "      <th>Feature 3</th>\n",
              "      <th>Feature 4</th>\n",
              "      <th>Feature 5</th>\n",
              "      <th>Feature 6</th>\n",
              "      <th>Feature 7</th>\n",
              "    </tr>\n",
              "  </thead>\n",
              "  <tbody>\n",
              "    <tr>\n",
              "      <th>868</th>\n",
              "      <td>1.035421</td>\n",
              "      <td>-0.644404</td>\n",
              "      <td>0.028982</td>\n",
              "      <td>1.629294</td>\n",
              "      <td>0.365133</td>\n",
              "      <td>-0.475741</td>\n",
              "      <td>0.943155</td>\n",
              "    </tr>\n",
              "  </tbody>\n",
              "</table>\n",
              "</div>\n",
              "      <button class=\"colab-df-convert\" onclick=\"convertToInteractive('df-89cc2419-2e3d-4f5f-ba5b-9cc7011d1e69')\"\n",
              "              title=\"Convert this dataframe to an interactive table.\"\n",
              "              style=\"display:none;\">\n",
              "        \n",
              "  <svg xmlns=\"http://www.w3.org/2000/svg\" height=\"24px\"viewBox=\"0 0 24 24\"\n",
              "       width=\"24px\">\n",
              "    <path d=\"M0 0h24v24H0V0z\" fill=\"none\"/>\n",
              "    <path d=\"M18.56 5.44l.94 2.06.94-2.06 2.06-.94-2.06-.94-.94-2.06-.94 2.06-2.06.94zm-11 1L8.5 8.5l.94-2.06 2.06-.94-2.06-.94L8.5 2.5l-.94 2.06-2.06.94zm10 10l.94 2.06.94-2.06 2.06-.94-2.06-.94-.94-2.06-.94 2.06-2.06.94z\"/><path d=\"M17.41 7.96l-1.37-1.37c-.4-.4-.92-.59-1.43-.59-.52 0-1.04.2-1.43.59L10.3 9.45l-7.72 7.72c-.78.78-.78 2.05 0 2.83L4 21.41c.39.39.9.59 1.41.59.51 0 1.02-.2 1.41-.59l7.78-7.78 2.81-2.81c.8-.78.8-2.07 0-2.86zM5.41 20L4 18.59l7.72-7.72 1.47 1.35L5.41 20z\"/>\n",
              "  </svg>\n",
              "      </button>\n",
              "      \n",
              "  <style>\n",
              "    .colab-df-container {\n",
              "      display:flex;\n",
              "      flex-wrap:wrap;\n",
              "      gap: 12px;\n",
              "    }\n",
              "\n",
              "    .colab-df-convert {\n",
              "      background-color: #E8F0FE;\n",
              "      border: none;\n",
              "      border-radius: 50%;\n",
              "      cursor: pointer;\n",
              "      display: none;\n",
              "      fill: #1967D2;\n",
              "      height: 32px;\n",
              "      padding: 0 0 0 0;\n",
              "      width: 32px;\n",
              "    }\n",
              "\n",
              "    .colab-df-convert:hover {\n",
              "      background-color: #E2EBFA;\n",
              "      box-shadow: 0px 1px 2px rgba(60, 64, 67, 0.3), 0px 1px 3px 1px rgba(60, 64, 67, 0.15);\n",
              "      fill: #174EA6;\n",
              "    }\n",
              "\n",
              "    [theme=dark] .colab-df-convert {\n",
              "      background-color: #3B4455;\n",
              "      fill: #D2E3FC;\n",
              "    }\n",
              "\n",
              "    [theme=dark] .colab-df-convert:hover {\n",
              "      background-color: #434B5C;\n",
              "      box-shadow: 0px 1px 3px 1px rgba(0, 0, 0, 0.15);\n",
              "      filter: drop-shadow(0px 1px 2px rgba(0, 0, 0, 0.3));\n",
              "      fill: #FFFFFF;\n",
              "    }\n",
              "  </style>\n",
              "\n",
              "      <script>\n",
              "        const buttonEl =\n",
              "          document.querySelector('#df-89cc2419-2e3d-4f5f-ba5b-9cc7011d1e69 button.colab-df-convert');\n",
              "        buttonEl.style.display =\n",
              "          google.colab.kernel.accessAllowed ? 'block' : 'none';\n",
              "\n",
              "        async function convertToInteractive(key) {\n",
              "          const element = document.querySelector('#df-89cc2419-2e3d-4f5f-ba5b-9cc7011d1e69');\n",
              "          const dataTable =\n",
              "            await google.colab.kernel.invokeFunction('convertToInteractive',\n",
              "                                                     [key], {});\n",
              "          if (!dataTable) return;\n",
              "\n",
              "          const docLinkHtml = 'Like what you see? Visit the ' +\n",
              "            '<a target=\"_blank\" href=https://colab.research.google.com/notebooks/data_table.ipynb>data table notebook</a>'\n",
              "            + ' to learn more about interactive tables.';\n",
              "          element.innerHTML = '';\n",
              "          dataTable['output_type'] = 'display_data';\n",
              "          await google.colab.output.renderOutput(dataTable, element);\n",
              "          const docLink = document.createElement('div');\n",
              "          docLink.innerHTML = docLinkHtml;\n",
              "          element.appendChild(docLink);\n",
              "        }\n",
              "      </script>\n",
              "    </div>\n",
              "  </div>\n",
              "  "
            ]
          },
          "metadata": {},
          "execution_count": 23
        }
      ]
    },
    {
      "cell_type": "code",
      "source": [
        "#le pasamos la informacion de nuestro modelo\n",
        "loaded_model.predict(X_test.tail(1))#predicción,nos indica que para dichos datos(X_test.tail(1))\n",
        "#pertenece a la clase 1 o etiqueta 1"
      ],
      "metadata": {
        "colab": {
          "base_uri": "https://localhost:8080/"
        },
        "id": "NgvbxzOQRrO9",
        "outputId": "9b9f14e0-efd3-4aef-c3e7-cb121caf1ca1"
      },
      "execution_count": 24,
      "outputs": [
        {
          "output_type": "execute_result",
          "data": {
            "text/plain": [
              "array([1])"
            ]
          },
          "metadata": {},
          "execution_count": 24
        }
      ]
    },
    {
      "cell_type": "code",
      "source": [
        "fila_14 = X_test.iloc[[14]]#seleccionamos una fila al azar\n",
        "fila_14"
      ],
      "metadata": {
        "colab": {
          "base_uri": "https://localhost:8080/",
          "height": 81
        },
        "id": "OUOCYxPVTutG",
        "outputId": "76d09c5c-daf0-4263-e3c6-d870e57667fe"
      },
      "execution_count": 38,
      "outputs": [
        {
          "output_type": "execute_result",
          "data": {
            "text/plain": [
              "      Feature 1  Feature 2  Feature 3  Feature 4  Feature 5  Feature 6  \\\n",
              "1305    2.65057   0.361761  -0.853897   0.461785  -1.062668   0.921892   \n",
              "\n",
              "      Feature 7  \n",
              "1305   1.568917  "
            ],
            "text/html": [
              "\n",
              "  <div id=\"df-05a381b4-4482-40cf-ad6e-6342ffa6780a\">\n",
              "    <div class=\"colab-df-container\">\n",
              "      <div>\n",
              "<style scoped>\n",
              "    .dataframe tbody tr th:only-of-type {\n",
              "        vertical-align: middle;\n",
              "    }\n",
              "\n",
              "    .dataframe tbody tr th {\n",
              "        vertical-align: top;\n",
              "    }\n",
              "\n",
              "    .dataframe thead th {\n",
              "        text-align: right;\n",
              "    }\n",
              "</style>\n",
              "<table border=\"1\" class=\"dataframe\">\n",
              "  <thead>\n",
              "    <tr style=\"text-align: right;\">\n",
              "      <th></th>\n",
              "      <th>Feature 1</th>\n",
              "      <th>Feature 2</th>\n",
              "      <th>Feature 3</th>\n",
              "      <th>Feature 4</th>\n",
              "      <th>Feature 5</th>\n",
              "      <th>Feature 6</th>\n",
              "      <th>Feature 7</th>\n",
              "    </tr>\n",
              "  </thead>\n",
              "  <tbody>\n",
              "    <tr>\n",
              "      <th>1305</th>\n",
              "      <td>2.65057</td>\n",
              "      <td>0.361761</td>\n",
              "      <td>-0.853897</td>\n",
              "      <td>0.461785</td>\n",
              "      <td>-1.062668</td>\n",
              "      <td>0.921892</td>\n",
              "      <td>1.568917</td>\n",
              "    </tr>\n",
              "  </tbody>\n",
              "</table>\n",
              "</div>\n",
              "      <button class=\"colab-df-convert\" onclick=\"convertToInteractive('df-05a381b4-4482-40cf-ad6e-6342ffa6780a')\"\n",
              "              title=\"Convert this dataframe to an interactive table.\"\n",
              "              style=\"display:none;\">\n",
              "        \n",
              "  <svg xmlns=\"http://www.w3.org/2000/svg\" height=\"24px\"viewBox=\"0 0 24 24\"\n",
              "       width=\"24px\">\n",
              "    <path d=\"M0 0h24v24H0V0z\" fill=\"none\"/>\n",
              "    <path d=\"M18.56 5.44l.94 2.06.94-2.06 2.06-.94-2.06-.94-.94-2.06-.94 2.06-2.06.94zm-11 1L8.5 8.5l.94-2.06 2.06-.94-2.06-.94L8.5 2.5l-.94 2.06-2.06.94zm10 10l.94 2.06.94-2.06 2.06-.94-2.06-.94-.94-2.06-.94 2.06-2.06.94z\"/><path d=\"M17.41 7.96l-1.37-1.37c-.4-.4-.92-.59-1.43-.59-.52 0-1.04.2-1.43.59L10.3 9.45l-7.72 7.72c-.78.78-.78 2.05 0 2.83L4 21.41c.39.39.9.59 1.41.59.51 0 1.02-.2 1.41-.59l7.78-7.78 2.81-2.81c.8-.78.8-2.07 0-2.86zM5.41 20L4 18.59l7.72-7.72 1.47 1.35L5.41 20z\"/>\n",
              "  </svg>\n",
              "      </button>\n",
              "      \n",
              "  <style>\n",
              "    .colab-df-container {\n",
              "      display:flex;\n",
              "      flex-wrap:wrap;\n",
              "      gap: 12px;\n",
              "    }\n",
              "\n",
              "    .colab-df-convert {\n",
              "      background-color: #E8F0FE;\n",
              "      border: none;\n",
              "      border-radius: 50%;\n",
              "      cursor: pointer;\n",
              "      display: none;\n",
              "      fill: #1967D2;\n",
              "      height: 32px;\n",
              "      padding: 0 0 0 0;\n",
              "      width: 32px;\n",
              "    }\n",
              "\n",
              "    .colab-df-convert:hover {\n",
              "      background-color: #E2EBFA;\n",
              "      box-shadow: 0px 1px 2px rgba(60, 64, 67, 0.3), 0px 1px 3px 1px rgba(60, 64, 67, 0.15);\n",
              "      fill: #174EA6;\n",
              "    }\n",
              "\n",
              "    [theme=dark] .colab-df-convert {\n",
              "      background-color: #3B4455;\n",
              "      fill: #D2E3FC;\n",
              "    }\n",
              "\n",
              "    [theme=dark] .colab-df-convert:hover {\n",
              "      background-color: #434B5C;\n",
              "      box-shadow: 0px 1px 3px 1px rgba(0, 0, 0, 0.15);\n",
              "      filter: drop-shadow(0px 1px 2px rgba(0, 0, 0, 0.3));\n",
              "      fill: #FFFFFF;\n",
              "    }\n",
              "  </style>\n",
              "\n",
              "      <script>\n",
              "        const buttonEl =\n",
              "          document.querySelector('#df-05a381b4-4482-40cf-ad6e-6342ffa6780a button.colab-df-convert');\n",
              "        buttonEl.style.display =\n",
              "          google.colab.kernel.accessAllowed ? 'block' : 'none';\n",
              "\n",
              "        async function convertToInteractive(key) {\n",
              "          const element = document.querySelector('#df-05a381b4-4482-40cf-ad6e-6342ffa6780a');\n",
              "          const dataTable =\n",
              "            await google.colab.kernel.invokeFunction('convertToInteractive',\n",
              "                                                     [key], {});\n",
              "          if (!dataTable) return;\n",
              "\n",
              "          const docLinkHtml = 'Like what you see? Visit the ' +\n",
              "            '<a target=\"_blank\" href=https://colab.research.google.com/notebooks/data_table.ipynb>data table notebook</a>'\n",
              "            + ' to learn more about interactive tables.';\n",
              "          element.innerHTML = '';\n",
              "          dataTable['output_type'] = 'display_data';\n",
              "          await google.colab.output.renderOutput(dataTable, element);\n",
              "          const docLink = document.createElement('div');\n",
              "          docLink.innerHTML = docLinkHtml;\n",
              "          element.appendChild(docLink);\n",
              "        }\n",
              "      </script>\n",
              "    </div>\n",
              "  </div>\n",
              "  "
            ]
          },
          "metadata": {},
          "execution_count": 38
        }
      ]
    },
    {
      "cell_type": "code",
      "source": [
        "loaded_model.predict(fila_14)"
      ],
      "metadata": {
        "colab": {
          "base_uri": "https://localhost:8080/"
        },
        "id": "95Tx1NjPoPVL",
        "outputId": "e2375096-188f-406c-dea6-3f791323040c"
      },
      "execution_count": 39,
      "outputs": [
        {
          "output_type": "execute_result",
          "data": {
            "text/plain": [
              "array([3])"
            ]
          },
          "metadata": {},
          "execution_count": 39
        }
      ]
    },
    {
      "cell_type": "markdown",
      "source": [
        "# ***EJERCICIO NBA***"
      ],
      "metadata": {
        "id": "zIoJKxcqovvy"
      }
    },
    {
      "cell_type": "code",
      "source": [
        "from google.colab import drive\n",
        "drive.mount('/content/drive')"
      ],
      "metadata": {
        "colab": {
          "base_uri": "https://localhost:8080/"
        },
        "id": "qRaV2jJ8o3JH",
        "outputId": "3d08bc88-52fb-4a81-a723-08bb4025a2d2"
      },
      "execution_count": 7,
      "outputs": [
        {
          "output_type": "stream",
          "name": "stdout",
          "text": [
            "Mounted at /content/drive\n"
          ]
        }
      ]
    },
    {
      "cell_type": "code",
      "source": [
        "import pandas as pd\n",
        "data = pd.read_csv('/content/drive/MyDrive/dataSets/nba.csv')"
      ],
      "metadata": {
        "id": "BRv_80UVo3PI"
      },
      "execution_count": 9,
      "outputs": []
    },
    {
      "cell_type": "code",
      "source": [
        "data.head()#variable objetivo seria target\n",
        "#0 gano visitante,1 gano local"
      ],
      "metadata": {
        "colab": {
          "base_uri": "https://localhost:8080/",
          "height": 391
        },
        "id": "dX4V5f_4rloX",
        "outputId": "2d6ce747-0ced-49e4-e504-818b21c05cb6"
      },
      "execution_count": 43,
      "outputs": [
        {
          "output_type": "execute_result",
          "data": {
            "text/plain": [
              "   game_id  target               team1                  team2  team1_odds  \\\n",
              "0       31       1       Brooklyn Nets  Golden State Warriors        1.37   \n",
              "1       32       0  Los Angeles Lakers   Los Angeles Clippers        1.73   \n",
              "2       35       1       Orlando Magic             Miami Heat        2.26   \n",
              "3       36       1  Philadelphia 76ers     Washington Wizards        1.30   \n",
              "4       34       1      Indiana Pacers        New York Knicks        1.22   \n",
              "\n",
              "   team2_odds  team1_odds_adjusted  team2_odds_adjusted  H_Team_Elo_Before  \\\n",
              "0        3.16                 1.31                 3.60             1500.0   \n",
              "1        2.12                 1.74                 2.15             1500.0   \n",
              "2        1.62                 2.65                 1.51             1500.0   \n",
              "3        3.43                 1.33                 3.45             1500.0   \n",
              "4        4.12                 1.31                 3.61             1500.0   \n",
              "\n",
              "   A_Team_Elo_Before  team1_odds_4  team1_odds_adjusted_4  score1_4  \\\n",
              "0             1500.0          1.86                  2.280     121.0   \n",
              "1             1500.0          3.76                  3.980      89.0   \n",
              "2             1500.0          2.38                  2.340     106.0   \n",
              "3             1500.0          1.56                  1.555     123.5   \n",
              "4             1500.0          2.28                  2.505     105.0   \n",
              "\n",
              "   p_1_score1_4  p_2_score1_4  p_3_score1_4  p_4_score1_4  team2_odds_4  \\\n",
              "0          24.0          41.0          28.0          28.0          1.27   \n",
              "1          27.0          28.0          14.0          20.0          1.70   \n",
              "2          31.0          27.0          25.0          23.0          1.59   \n",
              "3          26.0          35.5          27.0          35.0          3.77   \n",
              "4          28.5          29.0          17.5          30.0          3.35   \n",
              "\n",
              "   team2_odds_adjusted_4  score2_4  \n",
              "0                   1.26     109.0  \n",
              "1                   1.54     121.0  \n",
              "2                   1.63     103.0  \n",
              "3                   4.41     116.0  \n",
              "4                   4.37      99.0  "
            ],
            "text/html": [
              "\n",
              "  <div id=\"df-04da0aa6-99ed-4ffd-a20e-057f612c275a\">\n",
              "    <div class=\"colab-df-container\">\n",
              "      <div>\n",
              "<style scoped>\n",
              "    .dataframe tbody tr th:only-of-type {\n",
              "        vertical-align: middle;\n",
              "    }\n",
              "\n",
              "    .dataframe tbody tr th {\n",
              "        vertical-align: top;\n",
              "    }\n",
              "\n",
              "    .dataframe thead th {\n",
              "        text-align: right;\n",
              "    }\n",
              "</style>\n",
              "<table border=\"1\" class=\"dataframe\">\n",
              "  <thead>\n",
              "    <tr style=\"text-align: right;\">\n",
              "      <th></th>\n",
              "      <th>game_id</th>\n",
              "      <th>target</th>\n",
              "      <th>team1</th>\n",
              "      <th>team2</th>\n",
              "      <th>team1_odds</th>\n",
              "      <th>team2_odds</th>\n",
              "      <th>team1_odds_adjusted</th>\n",
              "      <th>team2_odds_adjusted</th>\n",
              "      <th>H_Team_Elo_Before</th>\n",
              "      <th>A_Team_Elo_Before</th>\n",
              "      <th>team1_odds_4</th>\n",
              "      <th>team1_odds_adjusted_4</th>\n",
              "      <th>score1_4</th>\n",
              "      <th>p_1_score1_4</th>\n",
              "      <th>p_2_score1_4</th>\n",
              "      <th>p_3_score1_4</th>\n",
              "      <th>p_4_score1_4</th>\n",
              "      <th>team2_odds_4</th>\n",
              "      <th>team2_odds_adjusted_4</th>\n",
              "      <th>score2_4</th>\n",
              "    </tr>\n",
              "  </thead>\n",
              "  <tbody>\n",
              "    <tr>\n",
              "      <th>0</th>\n",
              "      <td>31</td>\n",
              "      <td>1</td>\n",
              "      <td>Brooklyn Nets</td>\n",
              "      <td>Golden State Warriors</td>\n",
              "      <td>1.37</td>\n",
              "      <td>3.16</td>\n",
              "      <td>1.31</td>\n",
              "      <td>3.60</td>\n",
              "      <td>1500.0</td>\n",
              "      <td>1500.0</td>\n",
              "      <td>1.86</td>\n",
              "      <td>2.280</td>\n",
              "      <td>121.0</td>\n",
              "      <td>24.0</td>\n",
              "      <td>41.0</td>\n",
              "      <td>28.0</td>\n",
              "      <td>28.0</td>\n",
              "      <td>1.27</td>\n",
              "      <td>1.26</td>\n",
              "      <td>109.0</td>\n",
              "    </tr>\n",
              "    <tr>\n",
              "      <th>1</th>\n",
              "      <td>32</td>\n",
              "      <td>0</td>\n",
              "      <td>Los Angeles Lakers</td>\n",
              "      <td>Los Angeles Clippers</td>\n",
              "      <td>1.73</td>\n",
              "      <td>2.12</td>\n",
              "      <td>1.74</td>\n",
              "      <td>2.15</td>\n",
              "      <td>1500.0</td>\n",
              "      <td>1500.0</td>\n",
              "      <td>3.76</td>\n",
              "      <td>3.980</td>\n",
              "      <td>89.0</td>\n",
              "      <td>27.0</td>\n",
              "      <td>28.0</td>\n",
              "      <td>14.0</td>\n",
              "      <td>20.0</td>\n",
              "      <td>1.70</td>\n",
              "      <td>1.54</td>\n",
              "      <td>121.0</td>\n",
              "    </tr>\n",
              "    <tr>\n",
              "      <th>2</th>\n",
              "      <td>35</td>\n",
              "      <td>1</td>\n",
              "      <td>Orlando Magic</td>\n",
              "      <td>Miami Heat</td>\n",
              "      <td>2.26</td>\n",
              "      <td>1.62</td>\n",
              "      <td>2.65</td>\n",
              "      <td>1.51</td>\n",
              "      <td>1500.0</td>\n",
              "      <td>1500.0</td>\n",
              "      <td>2.38</td>\n",
              "      <td>2.340</td>\n",
              "      <td>106.0</td>\n",
              "      <td>31.0</td>\n",
              "      <td>27.0</td>\n",
              "      <td>25.0</td>\n",
              "      <td>23.0</td>\n",
              "      <td>1.59</td>\n",
              "      <td>1.63</td>\n",
              "      <td>103.0</td>\n",
              "    </tr>\n",
              "    <tr>\n",
              "      <th>3</th>\n",
              "      <td>36</td>\n",
              "      <td>1</td>\n",
              "      <td>Philadelphia 76ers</td>\n",
              "      <td>Washington Wizards</td>\n",
              "      <td>1.30</td>\n",
              "      <td>3.43</td>\n",
              "      <td>1.33</td>\n",
              "      <td>3.45</td>\n",
              "      <td>1500.0</td>\n",
              "      <td>1500.0</td>\n",
              "      <td>1.56</td>\n",
              "      <td>1.555</td>\n",
              "      <td>123.5</td>\n",
              "      <td>26.0</td>\n",
              "      <td>35.5</td>\n",
              "      <td>27.0</td>\n",
              "      <td>35.0</td>\n",
              "      <td>3.77</td>\n",
              "      <td>4.41</td>\n",
              "      <td>116.0</td>\n",
              "    </tr>\n",
              "    <tr>\n",
              "      <th>4</th>\n",
              "      <td>34</td>\n",
              "      <td>1</td>\n",
              "      <td>Indiana Pacers</td>\n",
              "      <td>New York Knicks</td>\n",
              "      <td>1.22</td>\n",
              "      <td>4.12</td>\n",
              "      <td>1.31</td>\n",
              "      <td>3.61</td>\n",
              "      <td>1500.0</td>\n",
              "      <td>1500.0</td>\n",
              "      <td>2.28</td>\n",
              "      <td>2.505</td>\n",
              "      <td>105.0</td>\n",
              "      <td>28.5</td>\n",
              "      <td>29.0</td>\n",
              "      <td>17.5</td>\n",
              "      <td>30.0</td>\n",
              "      <td>3.35</td>\n",
              "      <td>4.37</td>\n",
              "      <td>99.0</td>\n",
              "    </tr>\n",
              "  </tbody>\n",
              "</table>\n",
              "</div>\n",
              "      <button class=\"colab-df-convert\" onclick=\"convertToInteractive('df-04da0aa6-99ed-4ffd-a20e-057f612c275a')\"\n",
              "              title=\"Convert this dataframe to an interactive table.\"\n",
              "              style=\"display:none;\">\n",
              "        \n",
              "  <svg xmlns=\"http://www.w3.org/2000/svg\" height=\"24px\"viewBox=\"0 0 24 24\"\n",
              "       width=\"24px\">\n",
              "    <path d=\"M0 0h24v24H0V0z\" fill=\"none\"/>\n",
              "    <path d=\"M18.56 5.44l.94 2.06.94-2.06 2.06-.94-2.06-.94-.94-2.06-.94 2.06-2.06.94zm-11 1L8.5 8.5l.94-2.06 2.06-.94-2.06-.94L8.5 2.5l-.94 2.06-2.06.94zm10 10l.94 2.06.94-2.06 2.06-.94-2.06-.94-.94-2.06-.94 2.06-2.06.94z\"/><path d=\"M17.41 7.96l-1.37-1.37c-.4-.4-.92-.59-1.43-.59-.52 0-1.04.2-1.43.59L10.3 9.45l-7.72 7.72c-.78.78-.78 2.05 0 2.83L4 21.41c.39.39.9.59 1.41.59.51 0 1.02-.2 1.41-.59l7.78-7.78 2.81-2.81c.8-.78.8-2.07 0-2.86zM5.41 20L4 18.59l7.72-7.72 1.47 1.35L5.41 20z\"/>\n",
              "  </svg>\n",
              "      </button>\n",
              "      \n",
              "  <style>\n",
              "    .colab-df-container {\n",
              "      display:flex;\n",
              "      flex-wrap:wrap;\n",
              "      gap: 12px;\n",
              "    }\n",
              "\n",
              "    .colab-df-convert {\n",
              "      background-color: #E8F0FE;\n",
              "      border: none;\n",
              "      border-radius: 50%;\n",
              "      cursor: pointer;\n",
              "      display: none;\n",
              "      fill: #1967D2;\n",
              "      height: 32px;\n",
              "      padding: 0 0 0 0;\n",
              "      width: 32px;\n",
              "    }\n",
              "\n",
              "    .colab-df-convert:hover {\n",
              "      background-color: #E2EBFA;\n",
              "      box-shadow: 0px 1px 2px rgba(60, 64, 67, 0.3), 0px 1px 3px 1px rgba(60, 64, 67, 0.15);\n",
              "      fill: #174EA6;\n",
              "    }\n",
              "\n",
              "    [theme=dark] .colab-df-convert {\n",
              "      background-color: #3B4455;\n",
              "      fill: #D2E3FC;\n",
              "    }\n",
              "\n",
              "    [theme=dark] .colab-df-convert:hover {\n",
              "      background-color: #434B5C;\n",
              "      box-shadow: 0px 1px 3px 1px rgba(0, 0, 0, 0.15);\n",
              "      filter: drop-shadow(0px 1px 2px rgba(0, 0, 0, 0.3));\n",
              "      fill: #FFFFFF;\n",
              "    }\n",
              "  </style>\n",
              "\n",
              "      <script>\n",
              "        const buttonEl =\n",
              "          document.querySelector('#df-04da0aa6-99ed-4ffd-a20e-057f612c275a button.colab-df-convert');\n",
              "        buttonEl.style.display =\n",
              "          google.colab.kernel.accessAllowed ? 'block' : 'none';\n",
              "\n",
              "        async function convertToInteractive(key) {\n",
              "          const element = document.querySelector('#df-04da0aa6-99ed-4ffd-a20e-057f612c275a');\n",
              "          const dataTable =\n",
              "            await google.colab.kernel.invokeFunction('convertToInteractive',\n",
              "                                                     [key], {});\n",
              "          if (!dataTable) return;\n",
              "\n",
              "          const docLinkHtml = 'Like what you see? Visit the ' +\n",
              "            '<a target=\"_blank\" href=https://colab.research.google.com/notebooks/data_table.ipynb>data table notebook</a>'\n",
              "            + ' to learn more about interactive tables.';\n",
              "          element.innerHTML = '';\n",
              "          dataTable['output_type'] = 'display_data';\n",
              "          await google.colab.output.renderOutput(dataTable, element);\n",
              "          const docLink = document.createElement('div');\n",
              "          docLink.innerHTML = docLinkHtml;\n",
              "          element.appendChild(docLink);\n",
              "        }\n",
              "      </script>\n",
              "    </div>\n",
              "  </div>\n",
              "  "
            ]
          },
          "metadata": {},
          "execution_count": 43
        }
      ]
    },
    {
      "cell_type": "code",
      "source": [
        "data.info()"
      ],
      "metadata": {
        "colab": {
          "base_uri": "https://localhost:8080/"
        },
        "id": "Uyv7lLWXrzNb",
        "outputId": "f3c86785-9a80-489d-f8f5-ba51e761ed5f"
      },
      "execution_count": 44,
      "outputs": [
        {
          "output_type": "stream",
          "name": "stdout",
          "text": [
            "<class 'pandas.core.frame.DataFrame'>\n",
            "RangeIndex: 1902 entries, 0 to 1901\n",
            "Data columns (total 20 columns):\n",
            " #   Column                 Non-Null Count  Dtype  \n",
            "---  ------                 --------------  -----  \n",
            " 0   game_id                1902 non-null   int64  \n",
            " 1   target                 1902 non-null   int64  \n",
            " 2   team1                  1902 non-null   object \n",
            " 3   team2                  1902 non-null   object \n",
            " 4   team1_odds             1902 non-null   float64\n",
            " 5   team2_odds             1902 non-null   float64\n",
            " 6   team1_odds_adjusted    1902 non-null   float64\n",
            " 7   team2_odds_adjusted    1902 non-null   float64\n",
            " 8   H_Team_Elo_Before      1902 non-null   float64\n",
            " 9   A_Team_Elo_Before      1902 non-null   float64\n",
            " 10  team1_odds_4           1902 non-null   float64\n",
            " 11  team1_odds_adjusted_4  1902 non-null   float64\n",
            " 12  score1_4               1902 non-null   float64\n",
            " 13  p_1_score1_4           1902 non-null   float64\n",
            " 14  p_2_score1_4           1902 non-null   float64\n",
            " 15  p_3_score1_4           1902 non-null   float64\n",
            " 16  p_4_score1_4           1902 non-null   float64\n",
            " 17  team2_odds_4           1902 non-null   float64\n",
            " 18  team2_odds_adjusted_4  1902 non-null   float64\n",
            " 19  score2_4               1902 non-null   float64\n",
            "dtypes: float64(16), int64(2), object(2)\n",
            "memory usage: 297.3+ KB\n"
          ]
        }
      ]
    },
    {
      "cell_type": "code",
      "source": [
        "data['target'].value_counts()"
      ],
      "metadata": {
        "colab": {
          "base_uri": "https://localhost:8080/"
        },
        "id": "oWFGI_cTrzXl",
        "outputId": "b65dc6b7-dc4c-4e77-eb7d-d10713a9c41e"
      },
      "execution_count": 47,
      "outputs": [
        {
          "output_type": "execute_result",
          "data": {
            "text/plain": [
              "1    1035\n",
              "0     867\n",
              "Name: target, dtype: int64"
            ]
          },
          "metadata": {},
          "execution_count": 47
        }
      ]
    },
    {
      "cell_type": "code",
      "source": [
        "data['target'].value_counts(normalize=True)\n",
        "#54% gana el local\n",
        "#45% gana el visitante\n",
        "#por ejemplo podemos decir que si le apostmos al local tenemos 54% de ganar"
      ],
      "metadata": {
        "colab": {
          "base_uri": "https://localhost:8080/"
        },
        "id": "By98kTDsrzaa",
        "outputId": "c2aefe9b-beb3-41ce-cae9-25aa1205240a"
      },
      "execution_count": 48,
      "outputs": [
        {
          "output_type": "execute_result",
          "data": {
            "text/plain": [
              "1    0.544164\n",
              "0    0.455836\n",
              "Name: target, dtype: float64"
            ]
          },
          "metadata": {},
          "execution_count": 48
        }
      ]
    },
    {
      "cell_type": "code",
      "source": [
        "X = data.drop(columns=['game_id','target','team1','team2'])\n",
        "#game_id como tal nos da informacion,quitamos los team por ahora ya que son variables discretas \n",
        "y = data['target']"
      ],
      "metadata": {
        "id": "JbPbcUvRrzdg"
      },
      "execution_count": 10,
      "outputs": []
    },
    {
      "cell_type": "code",
      "source": [
        "import seaborn as sns\n",
        "sns.scatterplot(x='p_1_score1_4',y='p_2_score1_4',hue='target',data=data)\n",
        "#como podemos ver nuestros datos están muy revueltos,podriamos pensar que es una clasificacion dificil"
      ],
      "metadata": {
        "colab": {
          "base_uri": "https://localhost:8080/",
          "height": 297
        },
        "id": "LN4GW_DwtsA7",
        "outputId": "d29010af-f66b-4b0f-ae0d-dbba4e44c9c6"
      },
      "execution_count": 52,
      "outputs": [
        {
          "output_type": "execute_result",
          "data": {
            "text/plain": [
              "<AxesSubplot:xlabel='p_1_score1_4', ylabel='p_2_score1_4'>"
            ]
          },
          "metadata": {},
          "execution_count": 52
        },
        {
          "output_type": "display_data",
          "data": {
            "text/plain": [
              "<Figure size 432x288 with 1 Axes>"
            ],
            "image/png": "[encoded data removed]"
          },
          "metadata": {
            "needs_background": "light"
          }
        }
      ]
    },
    {
      "cell_type": "code",
      "source": [
        "#dividimos nuestro data train y test\n",
        "X_train, X_test, y_train, y_test = train_test_split(\n",
        "    X, \n",
        "    y, \n",
        "    test_size= 0.20,#tamaño de 20% para prueba\n",
        "    random_state= 85,\n",
        "    stratify = y #ayuda para cuando los datos estan muy desvalanceados\n",
        "    #en nuesro caso estan balanceados\n",
        ")"
      ],
      "metadata": {
        "id": "bX6OBWSVtsG9"
      },
      "execution_count": 17,
      "outputs": []
    },
    {
      "cell_type": "code",
      "source": [
        "from sklearn.tree import DecisionTreeClassifier\n",
        "from sklearn.ensemble import BaggingClassifier\n",
        "\n",
        "bagging_nba = BaggingClassifier(base_estimator=DecisionTreeClassifier(),\n",
        "                           n_estimators= 100,\n",
        "                           random_state= 19).fit(X_train, y_train)\n"
      ],
      "metadata": {
        "id": "tIDgEU7ntsg3"
      },
      "execution_count": 18,
      "outputs": []
    },
    {
      "cell_type": "code",
      "source": [
        "from sklearn.metrics import accuracy_score #metricas\n",
        "\n",
        "bagging_predict_nba = bagging_nba.predict(X_test)\n",
        "print('El Accuracy usando Bagging con Decition Tree es de: {}'.format(accuracy_score(bagging_predict_nba, y_test)))\n",
        "\n",
        "#nuestro modelo tiene un 63% de prediccion o una clasificacion de 63%\n",
        "#63% es bueno para este tipo de datos o clasificacion"
      ],
      "metadata": {
        "colab": {
          "base_uri": "https://localhost:8080/"
        },
        "id": "7j5mHrHItsj0",
        "outputId": "a024df0c-90b2-4feb-ac3e-9da2bc3223ed"
      },
      "execution_count": 19,
      "outputs": [
        {
          "output_type": "stream",
          "name": "stdout",
          "text": [
            "El Accuracy usando Bagging con Decition Tree es de: 0.6351706036745407\n"
          ]
        }
      ]
    },
    {
      "cell_type": "code",
      "source": [
        "bagging_nba = confusion_matrix(y_test,bagging_predict_nba)\n",
        "ConfusionMatrixDisplay(bagging_nba ).plot()\n",
        "#187 fueron etiquetados correctamente pero 73 no(falaron)\n",
        "#101 se clasifico bien pero 66 no"
      ],
      "metadata": {
        "colab": {
          "base_uri": "https://localhost:8080/",
          "height": 297
        },
        "id": "VwavfJ63ts0-",
        "outputId": "b0d11384-26a0-450c-b6e4-8e47ea0685e2"
      },
      "execution_count": 57,
      "outputs": [
        {
          "output_type": "execute_result",
          "data": {
            "text/plain": [
              "<sklearn.metrics._plot.confusion_matrix.ConfusionMatrixDisplay at 0x7f3b86bbaf70>"
            ]
          },
          "metadata": {},
          "execution_count": 57
        },
        {
          "output_type": "display_data",
          "data": {
            "text/plain": [
              "<Figure size 432x288 with 2 Axes>"
            ],
            "image/png": "[encoded data removed]"
          },
          "metadata": {
            "needs_background": "light"
          }
        }
      ]
    },
    {
      "cell_type": "code",
      "source": [
        "from sklearn.ensemble import GradientBoostingClassifier\n",
        "model_boosting_nba = GradientBoostingClassifier(n_estimators=50, random_state= 89).fit(X_train, y_train)\n"
      ],
      "metadata": {
        "id": "UevLXgumygmx"
      },
      "execution_count": 20,
      "outputs": []
    },
    {
      "cell_type": "code",
      "source": [
        "boosting_predict_nba = model_boosting_nba.predict(X_test)\n",
        "print('El Accuracy usando Boosting es de: {}'.format(accuracy_score(boosting_predict_nba, y_test)))\n",
        "#podemos ver que boosting es ligeramente mejor que bagging"
      ],
      "metadata": {
        "colab": {
          "base_uri": "https://localhost:8080/"
        },
        "id": "uEM_L2cDzjtT",
        "outputId": "6d4345c9-aeb9-4070-a970-4494141ce784"
      },
      "execution_count": 21,
      "outputs": [
        {
          "output_type": "stream",
          "name": "stdout",
          "text": [
            "El Accuracy usando Boosting es de: 0.6482939632545932\n"
          ]
        }
      ]
    },
    {
      "cell_type": "code",
      "source": [
        "boosting_nba = confusion_matrix(y_test,boosting_predict_nba)\n",
        "ConfusionMatrixDisplay(boosting_nba).plot()"
      ],
      "metadata": {
        "colab": {
          "base_uri": "https://localhost:8080/",
          "height": 296
        },
        "id": "RbJ7CNZNzj8z",
        "outputId": "91d83b0f-4134-456b-be83-51e74f9809f5"
      },
      "execution_count": 63,
      "outputs": [
        {
          "output_type": "execute_result",
          "data": {
            "text/plain": [
              "<sklearn.metrics._plot.confusion_matrix.ConfusionMatrixDisplay at 0x7f3b86b5ea60>"
            ]
          },
          "metadata": {},
          "execution_count": 63
        },
        {
          "output_type": "display_data",
          "data": {
            "text/plain": [
              "<Figure size 432x288 with 2 Axes>"
            ],
            "image/png": "[encoded data removed]"
          },
          "metadata": {
            "needs_background": "light"
          }
        }
      ]
    },
    {
      "cell_type": "markdown",
      "source": [
        "# **Prediccion con bagging**"
      ],
      "metadata": {
        "id": "-RUnxVJ9gF1I"
      }
    },
    {
      "cell_type": "code",
      "source": [
        "import pickle\n",
        "filename_nba = 'model_nba.sav'#nuestro archivo del modelo que resulto del entrenamiento \n",
        "pickle.dump(bagging_nba,open(filename_nba,'wb'))"
      ],
      "metadata": {
        "id": "0zctCgXIbH7t"
      },
      "execution_count": 22,
      "outputs": []
    },
    {
      "cell_type": "code",
      "source": [
        "\n",
        "loaded_model_nba = pickle.load(open(filename_nba,'rb'))\n"
      ],
      "metadata": {
        "id": "5oQ3QyYIb9gL"
      },
      "execution_count": 23,
      "outputs": []
    },
    {
      "cell_type": "code",
      "source": [
        "fila = X_test.iloc[[28]]\n",
        "fila\n"
      ],
      "metadata": {
        "colab": {
          "base_uri": "https://localhost:8080/",
          "height": 145
        },
        "id": "7LSild-ZdwSe",
        "outputId": "e36da53b-b59c-4661-846e-41a9f40698d0"
      },
      "execution_count": 29,
      "outputs": [
        {
          "output_type": "execute_result",
          "data": {
            "text/plain": [
              "     team1_odds  team2_odds  team1_odds_adjusted  team2_odds_adjusted  \\\n",
              "422        1.77        2.13                 1.86                  2.0   \n",
              "\n",
              "     H_Team_Elo_Before  A_Team_Elo_Before  team1_odds_4  \\\n",
              "422         1507.48522        1386.196632          2.14   \n",
              "\n",
              "     team1_odds_adjusted_4  score1_4  p_1_score1_4  p_2_score1_4  \\\n",
              "422                 2.2225     100.5         23.75          24.5   \n",
              "\n",
              "     p_3_score1_4  p_4_score1_4  team2_odds_4  team2_odds_adjusted_4  score2_4  \n",
              "422          24.5         27.75         4.325                  4.145     103.5  "
            ],
            "text/html": [
              "\n",
              "  <div id=\"df-7a292dad-5566-48a2-bd82-14835c79f788\">\n",
              "    <div class=\"colab-df-container\">\n",
              "      <div>\n",
              "<style scoped>\n",
              "    .dataframe tbody tr th:only-of-type {\n",
              "        vertical-align: middle;\n",
              "    }\n",
              "\n",
              "    .dataframe tbody tr th {\n",
              "        vertical-align: top;\n",
              "    }\n",
              "\n",
              "    .dataframe thead th {\n",
              "        text-align: right;\n",
              "    }\n",
              "</style>\n",
              "<table border=\"1\" class=\"dataframe\">\n",
              "  <thead>\n",
              "    <tr style=\"text-align: right;\">\n",
              "      <th></th>\n",
              "      <th>team1_odds</th>\n",
              "      <th>team2_odds</th>\n",
              "      <th>team1_odds_adjusted</th>\n",
              "      <th>team2_odds_adjusted</th>\n",
              "      <th>H_Team_Elo_Before</th>\n",
              "      <th>A_Team_Elo_Before</th>\n",
              "      <th>team1_odds_4</th>\n",
              "      <th>team1_odds_adjusted_4</th>\n",
              "      <th>score1_4</th>\n",
              "      <th>p_1_score1_4</th>\n",
              "      <th>p_2_score1_4</th>\n",
              "      <th>p_3_score1_4</th>\n",
              "      <th>p_4_score1_4</th>\n",
              "      <th>team2_odds_4</th>\n",
              "      <th>team2_odds_adjusted_4</th>\n",
              "      <th>score2_4</th>\n",
              "    </tr>\n",
              "  </thead>\n",
              "  <tbody>\n",
              "    <tr>\n",
              "      <th>422</th>\n",
              "      <td>1.77</td>\n",
              "      <td>2.13</td>\n",
              "      <td>1.86</td>\n",
              "      <td>2.0</td>\n",
              "      <td>1507.48522</td>\n",
              "      <td>1386.196632</td>\n",
              "      <td>2.14</td>\n",
              "      <td>2.2225</td>\n",
              "      <td>100.5</td>\n",
              "      <td>23.75</td>\n",
              "      <td>24.5</td>\n",
              "      <td>24.5</td>\n",
              "      <td>27.75</td>\n",
              "      <td>4.325</td>\n",
              "      <td>4.145</td>\n",
              "      <td>103.5</td>\n",
              "    </tr>\n",
              "  </tbody>\n",
              "</table>\n",
              "</div>\n",
              "      <button class=\"colab-df-convert\" onclick=\"convertToInteractive('df-7a292dad-5566-48a2-bd82-14835c79f788')\"\n",
              "              title=\"Convert this dataframe to an interactive table.\"\n",
              "              style=\"display:none;\">\n",
              "        \n",
              "  <svg xmlns=\"http://www.w3.org/2000/svg\" height=\"24px\"viewBox=\"0 0 24 24\"\n",
              "       width=\"24px\">\n",
              "    <path d=\"M0 0h24v24H0V0z\" fill=\"none\"/>\n",
              "    <path d=\"M18.56 5.44l.94 2.06.94-2.06 2.06-.94-2.06-.94-.94-2.06-.94 2.06-2.06.94zm-11 1L8.5 8.5l.94-2.06 2.06-.94-2.06-.94L8.5 2.5l-.94 2.06-2.06.94zm10 10l.94 2.06.94-2.06 2.06-.94-2.06-.94-.94-2.06-.94 2.06-2.06.94z\"/><path d=\"M17.41 7.96l-1.37-1.37c-.4-.4-.92-.59-1.43-.59-.52 0-1.04.2-1.43.59L10.3 9.45l-7.72 7.72c-.78.78-.78 2.05 0 2.83L4 21.41c.39.39.9.59 1.41.59.51 0 1.02-.2 1.41-.59l7.78-7.78 2.81-2.81c.8-.78.8-2.07 0-2.86zM5.41 20L4 18.59l7.72-7.72 1.47 1.35L5.41 20z\"/>\n",
              "  </svg>\n",
              "      </button>\n",
              "      \n",
              "  <style>\n",
              "    .colab-df-container {\n",
              "      display:flex;\n",
              "      flex-wrap:wrap;\n",
              "      gap: 12px;\n",
              "    }\n",
              "\n",
              "    .colab-df-convert {\n",
              "      background-color: #E8F0FE;\n",
              "      border: none;\n",
              "      border-radius: 50%;\n",
              "      cursor: pointer;\n",
              "      display: none;\n",
              "      fill: #1967D2;\n",
              "      height: 32px;\n",
              "      padding: 0 0 0 0;\n",
              "      width: 32px;\n",
              "    }\n",
              "\n",
              "    .colab-df-convert:hover {\n",
              "      background-color: #E2EBFA;\n",
              "      box-shadow: 0px 1px 2px rgba(60, 64, 67, 0.3), 0px 1px 3px 1px rgba(60, 64, 67, 0.15);\n",
              "      fill: #174EA6;\n",
              "    }\n",
              "\n",
              "    [theme=dark] .colab-df-convert {\n",
              "      background-color: #3B4455;\n",
              "      fill: #D2E3FC;\n",
              "    }\n",
              "\n",
              "    [theme=dark] .colab-df-convert:hover {\n",
              "      background-color: #434B5C;\n",
              "      box-shadow: 0px 1px 3px 1px rgba(0, 0, 0, 0.15);\n",
              "      filter: drop-shadow(0px 1px 2px rgba(0, 0, 0, 0.3));\n",
              "      fill: #FFFFFF;\n",
              "    }\n",
              "  </style>\n",
              "\n",
              "      <script>\n",
              "        const buttonEl =\n",
              "          document.querySelector('#df-7a292dad-5566-48a2-bd82-14835c79f788 button.colab-df-convert');\n",
              "        buttonEl.style.display =\n",
              "          google.colab.kernel.accessAllowed ? 'block' : 'none';\n",
              "\n",
              "        async function convertToInteractive(key) {\n",
              "          const element = document.querySelector('#df-7a292dad-5566-48a2-bd82-14835c79f788');\n",
              "          const dataTable =\n",
              "            await google.colab.kernel.invokeFunction('convertToInteractive',\n",
              "                                                     [key], {});\n",
              "          if (!dataTable) return;\n",
              "\n",
              "          const docLinkHtml = 'Like what you see? Visit the ' +\n",
              "            '<a target=\"_blank\" href=https://colab.research.google.com/notebooks/data_table.ipynb>data table notebook</a>'\n",
              "            + ' to learn more about interactive tables.';\n",
              "          element.innerHTML = '';\n",
              "          dataTable['output_type'] = 'display_data';\n",
              "          await google.colab.output.renderOutput(dataTable, element);\n",
              "          const docLink = document.createElement('div');\n",
              "          docLink.innerHTML = docLinkHtml;\n",
              "          element.appendChild(docLink);\n",
              "        }\n",
              "      </script>\n",
              "    </div>\n",
              "  </div>\n",
              "  "
            ]
          },
          "metadata": {},
          "execution_count": 29
        }
      ]
    },
    {
      "cell_type": "code",
      "source": [
        "loaded_model_nba.predict(fila)"
      ],
      "metadata": {
        "colab": {
          "base_uri": "https://localhost:8080/"
        },
        "id": "AbncxU7ZdwXH",
        "outputId": "55a31ec7-eeec-4776-ab6d-a1d1f66ea04a"
      },
      "execution_count": 30,
      "outputs": [
        {
          "output_type": "execute_result",
          "data": {
            "text/plain": [
              "array([0])"
            ]
          },
          "metadata": {},
          "execution_count": 30
        }
      ]
    },
    {
      "cell_type": "markdown",
      "source": [
        "# **prediccion con booosting**"
      ],
      "metadata": {
        "id": "yTn-IYb4gVQJ"
      }
    },
    {
      "cell_type": "code",
      "source": [
        "filename_boosting_nba = 'model_boosting_nba.sav'#nuestro archivo del modelo que resulto del entrenamiento \n",
        "pickle.dump(model_boosting_nba,open(filename_boosting_nba,'wb'))"
      ],
      "metadata": {
        "id": "qJ8AyGQ4egwp"
      },
      "execution_count": 34,
      "outputs": []
    },
    {
      "cell_type": "code",
      "source": [
        "loaded_model__boos_nba = pickle.load(open(filename_boosting_nba,'rb'))"
      ],
      "metadata": {
        "id": "PCcNCWwlezl2"
      },
      "execution_count": 35,
      "outputs": []
    },
    {
      "cell_type": "code",
      "source": [
        "fila_boos = X_test.iloc[[28]]\n",
        "fila_boos"
      ],
      "metadata": {
        "colab": {
          "base_uri": "https://localhost:8080/",
          "height": 145
        },
        "id": "zMCfxQfWezzP",
        "outputId": "45eb7177-9c8a-48f5-931f-ecd88ce0a3f3"
      },
      "execution_count": 37,
      "outputs": [
        {
          "output_type": "execute_result",
          "data": {
            "text/plain": [
              "     team1_odds  team2_odds  team1_odds_adjusted  team2_odds_adjusted  \\\n",
              "422        1.77        2.13                 1.86                  2.0   \n",
              "\n",
              "     H_Team_Elo_Before  A_Team_Elo_Before  team1_odds_4  \\\n",
              "422         1507.48522        1386.196632          2.14   \n",
              "\n",
              "     team1_odds_adjusted_4  score1_4  p_1_score1_4  p_2_score1_4  \\\n",
              "422                 2.2225     100.5         23.75          24.5   \n",
              "\n",
              "     p_3_score1_4  p_4_score1_4  team2_odds_4  team2_odds_adjusted_4  score2_4  \n",
              "422          24.5         27.75         4.325                  4.145     103.5  "
            ],
            "text/html": [
              "\n",
              "  <div id=\"df-ee1bb544-bb2f-4aff-bead-f0afa4bfcb06\">\n",
              "    <div class=\"colab-df-container\">\n",
              "      <div>\n",
              "<style scoped>\n",
              "    .dataframe tbody tr th:only-of-type {\n",
              "        vertical-align: middle;\n",
              "    }\n",
              "\n",
              "    .dataframe tbody tr th {\n",
              "        vertical-align: top;\n",
              "    }\n",
              "\n",
              "    .dataframe thead th {\n",
              "        text-align: right;\n",
              "    }\n",
              "</style>\n",
              "<table border=\"1\" class=\"dataframe\">\n",
              "  <thead>\n",
              "    <tr style=\"text-align: right;\">\n",
              "      <th></th>\n",
              "      <th>team1_odds</th>\n",
              "      <th>team2_odds</th>\n",
              "      <th>team1_odds_adjusted</th>\n",
              "      <th>team2_odds_adjusted</th>\n",
              "      <th>H_Team_Elo_Before</th>\n",
              "      <th>A_Team_Elo_Before</th>\n",
              "      <th>team1_odds_4</th>\n",
              "      <th>team1_odds_adjusted_4</th>\n",
              "      <th>score1_4</th>\n",
              "      <th>p_1_score1_4</th>\n",
              "      <th>p_2_score1_4</th>\n",
              "      <th>p_3_score1_4</th>\n",
              "      <th>p_4_score1_4</th>\n",
              "      <th>team2_odds_4</th>\n",
              "      <th>team2_odds_adjusted_4</th>\n",
              "      <th>score2_4</th>\n",
              "    </tr>\n",
              "  </thead>\n",
              "  <tbody>\n",
              "    <tr>\n",
              "      <th>422</th>\n",
              "      <td>1.77</td>\n",
              "      <td>2.13</td>\n",
              "      <td>1.86</td>\n",
              "      <td>2.0</td>\n",
              "      <td>1507.48522</td>\n",
              "      <td>1386.196632</td>\n",
              "      <td>2.14</td>\n",
              "      <td>2.2225</td>\n",
              "      <td>100.5</td>\n",
              "      <td>23.75</td>\n",
              "      <td>24.5</td>\n",
              "      <td>24.5</td>\n",
              "      <td>27.75</td>\n",
              "      <td>4.325</td>\n",
              "      <td>4.145</td>\n",
              "      <td>103.5</td>\n",
              "    </tr>\n",
              "  </tbody>\n",
              "</table>\n",
              "</div>\n",
              "      <button class=\"colab-df-convert\" onclick=\"convertToInteractive('df-ee1bb544-bb2f-4aff-bead-f0afa4bfcb06')\"\n",
              "              title=\"Convert this dataframe to an interactive table.\"\n",
              "              style=\"display:none;\">\n",
              "        \n",
              "  <svg xmlns=\"http://www.w3.org/2000/svg\" height=\"24px\"viewBox=\"0 0 24 24\"\n",
              "       width=\"24px\">\n",
              "    <path d=\"M0 0h24v24H0V0z\" fill=\"none\"/>\n",
              "    <path d=\"M18.56 5.44l.94 2.06.94-2.06 2.06-.94-2.06-.94-.94-2.06-.94 2.06-2.06.94zm-11 1L8.5 8.5l.94-2.06 2.06-.94-2.06-.94L8.5 2.5l-.94 2.06-2.06.94zm10 10l.94 2.06.94-2.06 2.06-.94-2.06-.94-.94-2.06-.94 2.06-2.06.94z\"/><path d=\"M17.41 7.96l-1.37-1.37c-.4-.4-.92-.59-1.43-.59-.52 0-1.04.2-1.43.59L10.3 9.45l-7.72 7.72c-.78.78-.78 2.05 0 2.83L4 21.41c.39.39.9.59 1.41.59.51 0 1.02-.2 1.41-.59l7.78-7.78 2.81-2.81c.8-.78.8-2.07 0-2.86zM5.41 20L4 18.59l7.72-7.72 1.47 1.35L5.41 20z\"/>\n",
              "  </svg>\n",
              "      </button>\n",
              "      \n",
              "  <style>\n",
              "    .colab-df-container {\n",
              "      display:flex;\n",
              "      flex-wrap:wrap;\n",
              "      gap: 12px;\n",
              "    }\n",
              "\n",
              "    .colab-df-convert {\n",
              "      background-color: #E8F0FE;\n",
              "      border: none;\n",
              "      border-radius: 50%;\n",
              "      cursor: pointer;\n",
              "      display: none;\n",
              "      fill: #1967D2;\n",
              "      height: 32px;\n",
              "      padding: 0 0 0 0;\n",
              "      width: 32px;\n",
              "    }\n",
              "\n",
              "    .colab-df-convert:hover {\n",
              "      background-color: #E2EBFA;\n",
              "      box-shadow: 0px 1px 2px rgba(60, 64, 67, 0.3), 0px 1px 3px 1px rgba(60, 64, 67, 0.15);\n",
              "      fill: #174EA6;\n",
              "    }\n",
              "\n",
              "    [theme=dark] .colab-df-convert {\n",
              "      background-color: #3B4455;\n",
              "      fill: #D2E3FC;\n",
              "    }\n",
              "\n",
              "    [theme=dark] .colab-df-convert:hover {\n",
              "      background-color: #434B5C;\n",
              "      box-shadow: 0px 1px 3px 1px rgba(0, 0, 0, 0.15);\n",
              "      filter: drop-shadow(0px 1px 2px rgba(0, 0, 0, 0.3));\n",
              "      fill: #FFFFFF;\n",
              "    }\n",
              "  </style>\n",
              "\n",
              "      <script>\n",
              "        const buttonEl =\n",
              "          document.querySelector('#df-ee1bb544-bb2f-4aff-bead-f0afa4bfcb06 button.colab-df-convert');\n",
              "        buttonEl.style.display =\n",
              "          google.colab.kernel.accessAllowed ? 'block' : 'none';\n",
              "\n",
              "        async function convertToInteractive(key) {\n",
              "          const element = document.querySelector('#df-ee1bb544-bb2f-4aff-bead-f0afa4bfcb06');\n",
              "          const dataTable =\n",
              "            await google.colab.kernel.invokeFunction('convertToInteractive',\n",
              "                                                     [key], {});\n",
              "          if (!dataTable) return;\n",
              "\n",
              "          const docLinkHtml = 'Like what you see? Visit the ' +\n",
              "            '<a target=\"_blank\" href=https://colab.research.google.com/notebooks/data_table.ipynb>data table notebook</a>'\n",
              "            + ' to learn more about interactive tables.';\n",
              "          element.innerHTML = '';\n",
              "          dataTable['output_type'] = 'display_data';\n",
              "          await google.colab.output.renderOutput(dataTable, element);\n",
              "          const docLink = document.createElement('div');\n",
              "          docLink.innerHTML = docLinkHtml;\n",
              "          element.appendChild(docLink);\n",
              "        }\n",
              "      </script>\n",
              "    </div>\n",
              "  </div>\n",
              "  "
            ]
          },
          "metadata": {},
          "execution_count": 37
        }
      ]
    },
    {
      "cell_type": "code",
      "source": [
        "loaded_model__boos_nba.predict(fila_boos)"
      ],
      "metadata": {
        "colab": {
          "base_uri": "https://localhost:8080/"
        },
        "id": "lflXjGp8fTlj",
        "outputId": "050b4267-a6cc-435f-ada6-35abf62799e6"
      },
      "execution_count": 38,
      "outputs": [
        {
          "output_type": "execute_result",
          "data": {
            "text/plain": [
              "array([1])"
            ]
          },
          "metadata": {},
          "execution_count": 38
        }
      ]
    }
  ]
}